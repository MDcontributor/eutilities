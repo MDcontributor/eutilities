{
  "nbformat": 4,
  "nbformat_minor": 0,
  "metadata": {
    "colab": {
      "name": "PubMedExtraction.ipynb",
      "provenance": [],
      "authorship_tag": "ABX9TyOMtR0K+xNAbXsFIONw8gzS",
      "include_colab_link": true
    },
    "kernelspec": {
      "name": "python3",
      "display_name": "Python 3"
    },
    "language_info": {
      "name": "python"
    }
  },
  "cells": [
    {
      "cell_type": "markdown",
      "metadata": {
        "id": "view-in-github",
        "colab_type": "text"
      },
      "source": [
        "<a href=\"https://colab.research.google.com/github/atjoelpark/eutilities/blob/main/demo/PubMedExtraction.ipynb\" target=\"_parent\"><img src=\"https://colab.research.google.com/assets/colab-badge.svg\" alt=\"Open In Colab\"/></a>"
      ]
    },
    {
      "cell_type": "code",
      "metadata": {
        "id": "mO5rziMiP1Y9"
      },
      "source": [
        "# Obtaining Keys from the US National Library of Medicine\n",
        "# Link: https://www.ncbi.nlm.nih.gov/home/develop/api/"
      ],
      "execution_count": 1,
      "outputs": []
    },
    {
      "cell_type": "code",
      "metadata": {
        "id": "eCnC38Kwdqio"
      },
      "source": [
        "# The two APIs of interest for PubMed Articles\n",
        "# 1. Entrez Programming Utilities\n",
        "# 2. PubMed Central (PMC) APIs\n",
        "\n",
        "# Website provides documentation in regards to scope and uses."
      ],
      "execution_count": 2,
      "outputs": []
    },
    {
      "cell_type": "code",
      "metadata": {
        "id": "H5AVx6OBd5Oj"
      },
      "source": [
        "# Use of APIs are free, but please do not abuse the services.\n",
        "# 1. Do not run API requests concurrently.\n",
        "# 2. Include parameters to help identify what services you require.\n",
        "# 2a. 'tool' should be the name of your application, as a string value with no internal spaces.\n",
        "# 2b. 'email' should be the email address of the maintainer of the tool"
      ],
      "execution_count": 3,
      "outputs": []
    },
    {
      "cell_type": "markdown",
      "metadata": {
        "id": "_5A-XfjrsdjO"
      },
      "source": [
        "# Setting up Google Colab"
      ]
    },
    {
      "cell_type": "code",
      "metadata": {
        "id": "7EA08xhkeOW_"
      },
      "source": [
        "# Setting up keys\n",
        "API_KEY = \"\"\n",
        "GOOGLE_DRIVE_URL = \"\""
      ],
      "execution_count": 5,
      "outputs": []
    },
    {
      "cell_type": "code",
      "metadata": {
        "id": "tkbFlAYDsJcZ"
      },
      "source": [
        "# Mounting Google Drive to Google Colab\n",
        "from google.colab import drive\n",
        "drive.mount(f'/content/drive/{GOOGLE_DRIVE_URL}')"
      ],
      "execution_count": null,
      "outputs": []
    },
    {
      "cell_type": "code",
      "metadata": {
        "id": "oWFN5undsZSQ"
      },
      "source": [
        "# Loading libraries (dependencies)\n",
        "import numpy as np \n",
        "import pandas as pd \n",
        "import re \n",
        "import requests"
      ],
      "execution_count": 6,
      "outputs": []
    },
    {
      "cell_type": "markdown",
      "metadata": {
        "id": "oQTec5eIsqb5"
      },
      "source": [
        "# Main"
      ]
    },
    {
      "cell_type": "code",
      "metadata": {
        "id": "bIaux56Zskth"
      },
      "source": [
        "# Using the requests module\n",
        "# Using the function \"get\", we enter in the URL with the desired query parameters as an argument\n",
        "# In this case, we will use Breast Cancer in Science Journal published in 2008.\n",
        "response = requests.get('https://eutils.ncbi.nlm.nih.gov/entrez/eutils/esearch.fcgi?db=pubmed&term=science[journal]+AND+breast+cancer+AND+2008[pdat]')"
      ],
      "execution_count": 8,
      "outputs": []
    },
    {
      "cell_type": "code",
      "metadata": {
        "colab": {
          "base_uri": "https://localhost:8080/"
        },
        "id": "5UGV9W0uvDoF",
        "outputId": "90455379-00fe-4100-a1de-2fd963d7b504"
      },
      "source": [
        "# Exploring response\n",
        "print(response)"
      ],
      "execution_count": 10,
      "outputs": [
        {
          "output_type": "stream",
          "text": [
            "<Response [200]>\n"
          ],
          "name": "stdout"
        }
      ]
    },
    {
      "cell_type": "markdown",
      "metadata": {
        "id": "XREePboEvqpC"
      },
      "source": [
        "Response 200 indicates that the API had successfully retrieved the data from the server. Let us explore the response.\n",
        "\n",
        "TO see what option exist, this link will provide additional detail information: [W3 Schools Python Requests Module](https://www.w3schools.com/python/ref_requests_response.asp)."
      ]
    },
    {
      "cell_type": "code",
      "metadata": {
        "colab": {
          "base_uri": "https://localhost:8080/"
        },
        "id": "kTqpV1qPvoTv",
        "outputId": "fd2cfd18-482f-4c04-a729-d2f6627270af"
      },
      "source": [
        "print(response.text)"
      ],
      "execution_count": 16,
      "outputs": [
        {
          "output_type": "stream",
          "text": [
            "<?xml version=\"1.0\" encoding=\"UTF-8\" ?>\n",
            "<!DOCTYPE eSearchResult PUBLIC \"-//NLM//DTD esearch 20060628//EN\" \"https://eutils.ncbi.nlm.nih.gov/eutils/dtd/20060628/esearch.dtd\">\n",
            "<eSearchResult><Count>6</Count><RetMax>6</RetMax><RetStart>0</RetStart><IdList>\n",
            "<Id>19008416</Id>\n",
            "<Id>18927361</Id>\n",
            "<Id>18787170</Id>\n",
            "<Id>18487186</Id>\n",
            "<Id>18239126</Id>\n",
            "<Id>18239125</Id>\n",
            "</IdList><TranslationSet><Translation>     <From>science[journal]</From>     <To>\"Science\"[Journal] OR \"Science (1979)\"[Journal]</To>    </Translation><Translation>     <From>breast cancer</From>     <To>\"breast neoplasms\"[MeSH Terms] OR (\"breast\"[All Fields] AND \"neoplasms\"[All Fields]) OR \"breast neoplasms\"[All Fields] OR (\"breast\"[All Fields] AND \"cancer\"[All Fields]) OR \"breast cancer\"[All Fields]</To>    </Translation></TranslationSet><TranslationStack>   <TermSet>    <Term>\"Science\"[Journal]</Term>    <Field>Journal</Field>    <Count>179506</Count>    <Explode>N</Explode>   </TermSet>   <TermSet>    <Term>\"Science (1979)\"[Journal]</Term>    <Field>Journal</Field>    <Count>10</Count>    <Explode>N</Explode>   </TermSet>   <OP>OR</OP>   <OP>GROUP</OP>   <TermSet>    <Term>\"breast neoplasms\"[MeSH Terms]</Term>    <Field>MeSH Terms</Field>    <Count>310748</Count>    <Explode>Y</Explode>   </TermSet>   <TermSet>    <Term>\"breast\"[All Fields]</Term>    <Field>All Fields</Field>    <Count>550287</Count>    <Explode>N</Explode>   </TermSet>   <TermSet>    <Term>\"neoplasms\"[All Fields]</Term>    <Field>All Fields</Field>    <Count>2834056</Count>    <Explode>N</Explode>   </TermSet>   <OP>AND</OP>   <OP>GROUP</OP>   <OP>OR</OP>   <TermSet>    <Term>\"breast neoplasms\"[All Fields]</Term>    <Field>All Fields</Field>    <Count>311433</Count>    <Explode>N</Explode>   </TermSet>   <OP>OR</OP>   <TermSet>    <Term>\"breast\"[All Fields]</Term>    <Field>All Fields</Field>    <Count>550287</Count>    <Explode>N</Explode>   </TermSet>   <TermSet>    <Term>\"cancer\"[All Fields]</Term>    <Field>All Fields</Field>    <Count>2529859</Count>    <Explode>N</Explode>   </TermSet>   <OP>AND</OP>   <OP>GROUP</OP>   <OP>OR</OP>   <TermSet>    <Term>\"breast cancer\"[All Fields]</Term>    <Field>All Fields</Field>    <Count>300640</Count>    <Explode>N</Explode>   </TermSet>   <OP>OR</OP>   <OP>GROUP</OP>   <OP>AND</OP>   <TermSet>    <Term>2008[pdat]</Term>    <Field>pdat</Field>    <Count>837040</Count>    <Explode>N</Explode>   </TermSet>   <OP>AND</OP>  </TranslationStack><QueryTranslation>(\"Science\"[Journal] OR \"Science (1979)\"[Journal]) AND (\"breast neoplasms\"[MeSH Terms] OR (\"breast\"[All Fields] AND \"neoplasms\"[All Fields]) OR \"breast neoplasms\"[All Fields] OR (\"breast\"[All Fields] AND \"cancer\"[All Fields]) OR \"breast cancer\"[All Fields]) AND 2008[pdat]</QueryTranslation></eSearchResult>\n",
            "\n"
          ],
          "name": "stdout"
        }
      ]
    },
    {
      "cell_type": "markdown",
      "metadata": {
        "id": "BCl-_qAux-Ms"
      },
      "source": [
        "Note that `response.text` is the statement that "
      ]
    },
    {
      "cell_type": "markdown",
      "metadata": {
        "id": "a0DrNrTTv0tG"
      },
      "source": [
        "# Accessing E-utilities via Unix\n",
        "**Advanced Topic**\n",
        "\n",
        "E-utilities provides an API via the Unix command line. If you are adept at Unix and command line interfaces, then this can also be an alternative method to pulling in data.\n",
        "\n",
        "This setup will take advantage of the underlying Google Compute Engine (Virtual Machine) that powers Google Colabs. Google Colabs is a Jupyter-like notebook that layers on top of a virtual machine. For Google Colab Pro users, you can access the terminal by clicking on the icon at the bottom left of the screen.\n",
        "\n",
        "Regardless of whether you have Google Colab Pro or not, the function below `e_utilities_intall()` will enable this Colab to access the Unix-based E-utilities API."
      ]
    },
    {
      "cell_type": "code",
      "metadata": {
        "id": "TVGKqOh2v4NH"
      },
      "source": [
        "# Installing E-utilities Entrez Direct\n",
        "def e_utilities_install():\n",
        "  \"\"\"\n",
        "  Installs e_utilities\n",
        "  Reference: https://www.ncbi.nlm.nih.gov/books/NBK179288/\n",
        "  \"\"\"\n",
        "  !curl -L https://www.ncbi.nlm.nih.gov/books/NBK179288/bin/install-edirect.sh > install-edirect.sh\n",
        "  !bash install-edirect.sh -y\n",
        "  !echo 'export PATH=\\$PATH:\\$HOME/edirect' >> $HOME/.bash_profile\n",
        "  !rm install-edirect.sh"
      ],
      "execution_count": 11,
      "outputs": []
    },
    {
      "cell_type": "code",
      "metadata": {
        "id": "HQLM_F2WyJH5"
      },
      "source": [
        "\n",
        "# Defining Functions\n",
        "def pull_pmid_metadata(pmid: list) -> pd.DataFrame:\n",
        "  \"\"\"\n",
        "  This is dependent on E-utilities. The input parameter is a list of PMIDs.\n",
        "  The output is is a Pandas DataFrame with the following columns:\n",
        "\n",
        "  1. PMID\n",
        "  2. PubMed Article Title\n",
        "  3. DateCompleted (Year_Month_Day)\n",
        "  4. DateRevised (Year_Month_Day)\n",
        "  5. Journal Title\n",
        "  6. Publication Date (Year_Month_Day)\n",
        "  7. Abstract\n",
        "  8. Author FirstName_LastName_Affiliation (Note that that three values are\n",
        "  separated by \"_\". If an author has affilitations to multiple institions, the\n",
        "  institutions are separated by the character \"/\".)\n",
        "\n",
        "  @param pmid: Takes a list of PMIDs produced by function pull_pmid\n",
        "  @return: Returns a Pandas DataFrame\n",
        "  @raise keyError: raises an exception\n",
        "  \"\"\"\n",
        "  columns = [\"PMID\", \"PubMed_Article_Title\", \"Date_Completed_Year\", \n",
        "             \"Date_Completed_Month\", \"Date_Completed_Day\", \"Date_Revised_Year\", \n",
        "             \"Date_Revised_Month\", \"Date_Revised_Day\", \"Journal_Title\",\n",
        "             \"Publication_Date_Year\", \"Publication_Date_Month\", \"Publication_Date_Day\",\n",
        "             \"Abstract\", \"AuthorFirstName_AuthorLastName_Affiliation\"]\n",
        "  df = pd.DataFrame(columns=columns)\n",
        "\n",
        "  for id, i in enumerate(pmid):\n",
        "    try:\n",
        "      _temp = f'''$HOME/edirect/efetch -db pubmed -id {i} -format xml \\\n",
        "| $HOME/edirect/xtract -pattern PubmedArticle -tab \"|\" -def \"NULL\" -sep \",\" -element MedlineCitation/PMID ArticleTitle \\\n",
        "DateCompleted/Year DateCompleted/Month DateCompleted/Day DateRevised/Year DateRevised/Month DateRevised/Day Journal/Title \\\n",
        "PubDate/Year PubDate/Month PubDate/Day AbstractText \\\n",
        "-block Author -tab \"/\" -def \"NULL\" -sep \"_\" -element ForeName,LastName,Affiliation'''\n",
        "\n",
        "      _result = !{_temp}\n",
        "      _temp = _result[0].split(\"|\")\n",
        "\n",
        "      for _count, _value in enumerate(_temp):\n",
        "        df.loc[id,columns[_count]] = _value\n",
        "        \n",
        "    except Exception as e:\n",
        "      print(f\"Error Raised when Querying Unix EDirect for PMID: {i}\")\n",
        "      print(e)\n",
        "\n",
        "  # Prior to returning df\n",
        "  # If any cells have empty values, convert to NULL\n",
        "  df = df.replace(r'', \"NULL\", regex=True)\n",
        "\n",
        "  return df"
      ],
      "execution_count": 18,
      "outputs": []
    },
    {
      "cell_type": "code",
      "metadata": {
        "id": "mkrNyIhsv_GJ"
      },
      "source": [
        "$HOME/edirect/efetch -db pubmed -id {i} -format xml \\\n",
        "| $HOME/edirect/xtract -pattern PubmedArticle -tab \"|\" -def \"NULL\" -sep \",\" -element MedlineCitation/PMID ArticleTitle \\\n",
        "DateCompleted/Year DateCompleted/Month DateCompleted/Day DateRevised/Year DateRevised/Month DateRevised/Day Journal/Title \\\n",
        "PubDate/Year PubDate/Month PubDate/Day AbstractText \\\n",
        "-block Author -tab \"/\" -def \"NULL\" -sep \"_\" -element ForeName,LastName,Affiliation'''"
      ],
      "execution_count": null,
      "outputs": []
    }
  ]
}