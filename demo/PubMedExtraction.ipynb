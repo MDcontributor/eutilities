{
  "nbformat": 4,
  "nbformat_minor": 0,
  "metadata": {
    "colab": {
      "name": "PubMedExtraction.ipynb",
      "provenance": [],
      "collapsed_sections": [],
      "authorship_tag": "ABX9TyPEL2ai1ZHjarClboLucM3b",
      "include_colab_link": true
    },
    "kernelspec": {
      "name": "python3",
      "display_name": "Python 3"
    },
    "language_info": {
      "name": "python"
    }
  },
  "cells": [
    {
      "cell_type": "markdown",
      "metadata": {
        "id": "view-in-github",
        "colab_type": "text"
      },
      "source": [
        "<a href=\"https://colab.research.google.com/github/atjoelpark/eutilities/blob/main/demo/PubMedExtraction.ipynb\" target=\"_parent\"><img src=\"https://colab.research.google.com/assets/colab-badge.svg\" alt=\"Open In Colab\"/></a>"
      ]
    },
    {
      "cell_type": "code",
      "metadata": {
        "id": "mO5rziMiP1Y9"
      },
      "source": [
        "# Obtaining Keys from the US National Library of Medicine\n",
        "# Link: https://www.ncbi.nlm.nih.gov/home/develop/api/"
      ],
      "execution_count": null,
      "outputs": []
    },
    {
      "cell_type": "code",
      "metadata": {
        "id": "eCnC38Kwdqio"
      },
      "source": [
        "# The two APIs of interest for PubMed Articles\n",
        "# 1. Entrez Programming Utilities\n",
        "# 2. PubMed Central (PMC) APIs\n",
        "\n",
        "# Website provides documentation in regards to scope and uses."
      ],
      "execution_count": null,
      "outputs": []
    },
    {
      "cell_type": "code",
      "metadata": {
        "id": "H5AVx6OBd5Oj"
      },
      "source": [
        "# Use of APIs are free, but please do not abuse the services.\n",
        "# 1. Do not run API requests concurrently.\n",
        "# 2. Include parameters to help identify what services you require.\n",
        "# 2a. 'tool' should be the name of your application, as a string value with no internal spaces.\n",
        "# 2b. 'email' should be the email address of the maintainer of the tool"
      ],
      "execution_count": null,
      "outputs": []
    },
    {
      "cell_type": "markdown",
      "metadata": {
        "id": "_5A-XfjrsdjO"
      },
      "source": [
        "# Setting up Google Colab"
      ]
    },
    {
      "cell_type": "code",
      "metadata": {
        "id": "7EA08xhkeOW_"
      },
      "source": [
        "# Setting up keys\n",
        "API_KEY = \"\"\n",
        "GOOGLE_DRIVE_URL = \"\"\n",
        "GOOGLE_FOLDER_TO_SAVE = \"Research\""
      ],
      "execution_count": null,
      "outputs": []
    },
    {
      "cell_type": "code",
      "metadata": {
        "id": "tkbFlAYDsJcZ",
        "colab": {
          "base_uri": "https://localhost:8080/"
        },
        "outputId": "8502b2a7-e675-412e-a322-1c2663022b55"
      },
      "source": [
        "# Mounting Google Drive to Google Colab\n",
        "from google.colab import drive\n",
        "drive.mount(f'/content/drive/{GOOGLE_DRIVE_URL}')"
      ],
      "execution_count": null,
      "outputs": [
        {
          "output_type": "stream",
          "text": [
            "Drive already mounted at /content/drive/; to attempt to forcibly remount, call drive.mount(\"/content/drive/\", force_remount=True).\n"
          ],
          "name": "stdout"
        }
      ]
    },
    {
      "cell_type": "code",
      "metadata": {
        "id": "oWFN5undsZSQ"
      },
      "source": [
        "# Loading libraries (dependencies)\n",
        "import numpy as np \n",
        "import pandas as pd \n",
        "import re \n",
        "import requests"
      ],
      "execution_count": null,
      "outputs": []
    },
    {
      "cell_type": "markdown",
      "metadata": {
        "id": "oQTec5eIsqb5"
      },
      "source": [
        "# Main"
      ]
    },
    {
      "cell_type": "code",
      "metadata": {
        "id": "bIaux56Zskth"
      },
      "source": [
        "# Using the requests module\n",
        "# Using the function \"get\", we enter in the URL with the desired query parameters as an argument\n",
        "# In this case, we will use Breast Cancer in Science Journal published in 2008.\n",
        "response = requests.get('https://eutils.ncbi.nlm.nih.gov/entrez/eutils/esearch.fcgi?db=pubmed&term=science[journal]+AND+breast+cancer+AND+2008[pdat]')"
      ],
      "execution_count": null,
      "outputs": []
    },
    {
      "cell_type": "code",
      "metadata": {
        "colab": {
          "base_uri": "https://localhost:8080/"
        },
        "id": "5UGV9W0uvDoF",
        "outputId": "90455379-00fe-4100-a1de-2fd963d7b504"
      },
      "source": [
        "# Exploring response\n",
        "print(response)"
      ],
      "execution_count": null,
      "outputs": [
        {
          "output_type": "stream",
          "text": [
            "<Response [200]>\n"
          ],
          "name": "stdout"
        }
      ]
    },
    {
      "cell_type": "markdown",
      "metadata": {
        "id": "XREePboEvqpC"
      },
      "source": [
        "Response 200 indicates that the API had successfully retrieved the data from the server. Let us explore the response.\n",
        "\n",
        "TO see what option exist, this link will provide additional detail information: [W3 Schools Python Requests Module](https://www.w3schools.com/python/ref_requests_response.asp)."
      ]
    },
    {
      "cell_type": "code",
      "metadata": {
        "colab": {
          "base_uri": "https://localhost:8080/"
        },
        "id": "kTqpV1qPvoTv",
        "outputId": "2a5a5e2e-f404-4222-ce19-4ad251b296b2"
      },
      "source": [
        "print(response.text)"
      ],
      "execution_count": null,
      "outputs": [
        {
          "output_type": "stream",
          "text": [
            "<?xml version=\"1.0\" encoding=\"UTF-8\" ?>\n",
            "<!DOCTYPE eSearchResult PUBLIC \"-//NLM//DTD esearch 20060628//EN\" \"https://eutils.ncbi.nlm.nih.gov/eutils/dtd/20060628/esearch.dtd\">\n",
            "<eSearchResult><Count>6</Count><RetMax>6</RetMax><RetStart>0</RetStart><IdList>\n",
            "<Id>19008416</Id>\n",
            "<Id>18927361</Id>\n",
            "<Id>18787170</Id>\n",
            "<Id>18487186</Id>\n",
            "<Id>18239126</Id>\n",
            "<Id>18239125</Id>\n",
            "</IdList><TranslationSet><Translation>     <From>science[journal]</From>     <To>\"Science\"[Journal] OR \"Science (1979)\"[Journal]</To>    </Translation><Translation>     <From>breast cancer</From>     <To>\"breast neoplasms\"[MeSH Terms] OR (\"breast\"[All Fields] AND \"neoplasms\"[All Fields]) OR \"breast neoplasms\"[All Fields] OR (\"breast\"[All Fields] AND \"cancer\"[All Fields]) OR \"breast cancer\"[All Fields]</To>    </Translation></TranslationSet><TranslationStack>   <TermSet>    <Term>\"Science\"[Journal]</Term>    <Field>Journal</Field>    <Count>179506</Count>    <Explode>N</Explode>   </TermSet>   <TermSet>    <Term>\"Science (1979)\"[Journal]</Term>    <Field>Journal</Field>    <Count>10</Count>    <Explode>N</Explode>   </TermSet>   <OP>OR</OP>   <OP>GROUP</OP>   <TermSet>    <Term>\"breast neoplasms\"[MeSH Terms]</Term>    <Field>MeSH Terms</Field>    <Count>310748</Count>    <Explode>Y</Explode>   </TermSet>   <TermSet>    <Term>\"breast\"[All Fields]</Term>    <Field>All Fields</Field>    <Count>550287</Count>    <Explode>N</Explode>   </TermSet>   <TermSet>    <Term>\"neoplasms\"[All Fields]</Term>    <Field>All Fields</Field>    <Count>2834056</Count>    <Explode>N</Explode>   </TermSet>   <OP>AND</OP>   <OP>GROUP</OP>   <OP>OR</OP>   <TermSet>    <Term>\"breast neoplasms\"[All Fields]</Term>    <Field>All Fields</Field>    <Count>311433</Count>    <Explode>N</Explode>   </TermSet>   <OP>OR</OP>   <TermSet>    <Term>\"breast\"[All Fields]</Term>    <Field>All Fields</Field>    <Count>550287</Count>    <Explode>N</Explode>   </TermSet>   <TermSet>    <Term>\"cancer\"[All Fields]</Term>    <Field>All Fields</Field>    <Count>2529859</Count>    <Explode>N</Explode>   </TermSet>   <OP>AND</OP>   <OP>GROUP</OP>   <OP>OR</OP>   <TermSet>    <Term>\"breast cancer\"[All Fields]</Term>    <Field>All Fields</Field>    <Count>300640</Count>    <Explode>N</Explode>   </TermSet>   <OP>OR</OP>   <OP>GROUP</OP>   <OP>AND</OP>   <TermSet>    <Term>2008[pdat]</Term>    <Field>pdat</Field>    <Count>837040</Count>    <Explode>N</Explode>   </TermSet>   <OP>AND</OP>  </TranslationStack><QueryTranslation>(\"Science\"[Journal] OR \"Science (1979)\"[Journal]) AND (\"breast neoplasms\"[MeSH Terms] OR (\"breast\"[All Fields] AND \"neoplasms\"[All Fields]) OR \"breast neoplasms\"[All Fields] OR (\"breast\"[All Fields] AND \"cancer\"[All Fields]) OR \"breast cancer\"[All Fields]) AND 2008[pdat]</QueryTranslation></eSearchResult>\n",
            "\n"
          ],
          "name": "stdout"
        }
      ]
    },
    {
      "cell_type": "markdown",
      "metadata": {
        "id": "BCl-_qAux-Ms"
      },
      "source": [
        "Note that `response.text` is the statement that allows us to visualize the XML response. Generally, if you are intending to finding a list of PMIDs that fit your Pubmed Query, it may be better to use the PubMed website. Return to the Google Slides for further context.\n",
        "\n",
        "Note that because the response is in XML, we will need to import an additional python package called `xml.etree.ElementTree` to parse the XML file into something useable.\n",
        "\n",
        "**Resource**: \n",
        "\n",
        "* [Python XML with ElementTree: Beginner's Guide in DataCamp](https://www.datacamp.com/community/tutorials/python-xml-elementtree)\n",
        "\n",
        "* [Python Docs XML ElementTree](https://docs.python.org/3/library/xml.etree.elementtree.html)\n"
      ]
    },
    {
      "cell_type": "code",
      "metadata": {
        "id": "O4D-Kdzq1i_8"
      },
      "source": [
        "import xml.etree.ElementTree as ET\n",
        "root = ET.fromstring(response.text)\n",
        "tree = ET.ElementTree(root)"
      ],
      "execution_count": null,
      "outputs": []
    },
    {
      "cell_type": "code",
      "metadata": {
        "colab": {
          "base_uri": "https://localhost:8080/"
        },
        "id": "OM2r0-kSGMX8",
        "outputId": "32838838-0a59-4217-d427-a2da21c1a1b9"
      },
      "source": [
        "# Finding the root XML tag\n",
        "print(root.tag)"
      ],
      "execution_count": null,
      "outputs": [
        {
          "output_type": "stream",
          "text": [
            "eSearchResult\n"
          ],
          "name": "stdout"
        }
      ]
    },
    {
      "cell_type": "code",
      "metadata": {
        "colab": {
          "base_uri": "https://localhost:8080/"
        },
        "id": "BL1FGJsLE4nl",
        "outputId": "1e81c2bc-05dc-42e2-891e-0346958c1922"
      },
      "source": [
        "# Iterate over the XML children tags\n",
        "for child in root:\n",
        "  print(child.tag)"
      ],
      "execution_count": null,
      "outputs": [
        {
          "output_type": "stream",
          "text": [
            "Count\n",
            "RetMax\n",
            "RetStart\n",
            "IdList\n",
            "TranslationSet\n",
            "TranslationStack\n",
            "QueryTranslation\n"
          ],
          "name": "stdout"
        }
      ]
    },
    {
      "cell_type": "code",
      "metadata": {
        "colab": {
          "base_uri": "https://localhost:8080/"
        },
        "id": "OuMM5u4MHGxD",
        "outputId": "0a77b550-5ce9-4f6d-8ad0-94cff1ed3ed8"
      },
      "source": [
        "# We see that IdList is the XML tag of interest.\n",
        "# Let's see what tags exist under IdList\n",
        "for child in root.iter('IdList'):\n",
        "  print(child.tag)"
      ],
      "execution_count": null,
      "outputs": [
        {
          "output_type": "stream",
          "text": [
            "IdList\n"
          ],
          "name": "stdout"
        }
      ]
    },
    {
      "cell_type": "code",
      "metadata": {
        "colab": {
          "base_uri": "https://localhost:8080/"
        },
        "id": "7AIOUO5EGUsK",
        "outputId": "61d71cca-cccb-4a87-b6fa-2877b0f28b83"
      },
      "source": [
        "# Iterate over IdList to see what PMIDs exist.\n",
        "for id in root.iter('Id'):\n",
        "  print(id.text)"
      ],
      "execution_count": null,
      "outputs": [
        {
          "output_type": "stream",
          "text": [
            "19008416\n",
            "18927361\n",
            "18787170\n",
            "18487186\n",
            "18239126\n",
            "18239125\n"
          ],
          "name": "stdout"
        }
      ]
    },
    {
      "cell_type": "markdown",
      "metadata": {
        "id": "zZUN8urLHuYB"
      },
      "source": [
        "If we continue to look into the documentation, we can end up defining a function that could return PMIDS. That being said, PMIDS can be returned from the website.\n",
        "\n",
        "We need to more importantly be able to extract PubMed metadata. Let's go ahead and do that. Let's access PubMed ID 19008416. We will be using ESummary version 2.0 Output.\n",
        "\n",
        "Note that multiple IDs can be entered at once like this:\n",
        "\n",
        "`id=19008416,18927361,18787170,18487186,18239126,18239125`"
      ]
    },
    {
      "cell_type": "code",
      "metadata": {
        "id": "gTk0d-MdHnPx"
      },
      "source": [
        "# https://www.ncbi.nlm.nih.gov/books/NBK25500/\n",
        "response = requests.get('https://eutils.ncbi.nlm.nih.gov/entrez/eutils/esummary.fcgi?db=pubmed&id=19008416&version=2.0')"
      ],
      "execution_count": null,
      "outputs": []
    },
    {
      "cell_type": "code",
      "metadata": {
        "colab": {
          "base_uri": "https://localhost:8080/"
        },
        "id": "IpUYidjdJUcZ",
        "outputId": "0b15f3bf-603a-4d7e-aaed-06b409138f93"
      },
      "source": [
        "# Reponse ok?\n",
        "print(response)"
      ],
      "execution_count": null,
      "outputs": [
        {
          "output_type": "stream",
          "text": [
            "<Response [200]>\n"
          ],
          "name": "stdout"
        }
      ]
    },
    {
      "cell_type": "code",
      "metadata": {
        "colab": {
          "base_uri": "https://localhost:8080/"
        },
        "id": "LNMYa2vYJXWM",
        "outputId": "2bb1d7ff-b173-48d2-9cc8-2f3347eeb346"
      },
      "source": [
        "# The return was successful.\n",
        "# Let's look at the content\n",
        "print(response.text)"
      ],
      "execution_count": null,
      "outputs": [
        {
          "output_type": "stream",
          "text": [
            "<?xml version=\"1.0\" encoding=\"UTF-8\" ?>\n",
            "<!DOCTYPE eSummaryResult PUBLIC \"-//NLM//DTD esummary pubmed 20160808//EN\" \"https://eutils.ncbi.nlm.nih.gov/eutils/dtd/20160808/esummary_pubmed.dtd\">\n",
            "<eSummaryResult>\n",
            "<DocumentSummarySet status=\"OK\">\n",
            "<DbBuild>Build210822-1333.1</DbBuild>\n",
            "\n",
            "<DocumentSummary uid=\"19008416\">\n",
            "\t<PubDate>2008 Dec 12</PubDate>\n",
            "\t<EPubDate>2008 Nov 13</EPubDate>\n",
            "\t<Source>Science</Source>\n",
            "\t<Authors>\n",
            "\t\t<Author>\n",
            "\t\t\t<Name>Varambally S</Name>\n",
            "\t\t\t<AuthType>Author</AuthType>\n",
            "\t\t\t<ClusterID></ClusterID>\n",
            "\t\t</Author>\n",
            "\t\t<Author>\n",
            "\t\t\t<Name>Cao Q</Name>\n",
            "\t\t\t<AuthType>Author</AuthType>\n",
            "\t\t\t<ClusterID></ClusterID>\n",
            "\t\t</Author>\n",
            "\t\t<Author>\n",
            "\t\t\t<Name>Mani RS</Name>\n",
            "\t\t\t<AuthType>Author</AuthType>\n",
            "\t\t\t<ClusterID></ClusterID>\n",
            "\t\t</Author>\n",
            "\t\t<Author>\n",
            "\t\t\t<Name>Shankar S</Name>\n",
            "\t\t\t<AuthType>Author</AuthType>\n",
            "\t\t\t<ClusterID></ClusterID>\n",
            "\t\t</Author>\n",
            "\t\t<Author>\n",
            "\t\t\t<Name>Wang X</Name>\n",
            "\t\t\t<AuthType>Author</AuthType>\n",
            "\t\t\t<ClusterID></ClusterID>\n",
            "\t\t</Author>\n",
            "\t\t<Author>\n",
            "\t\t\t<Name>Ateeq B</Name>\n",
            "\t\t\t<AuthType>Author</AuthType>\n",
            "\t\t\t<ClusterID></ClusterID>\n",
            "\t\t</Author>\n",
            "\t\t<Author>\n",
            "\t\t\t<Name>Laxman B</Name>\n",
            "\t\t\t<AuthType>Author</AuthType>\n",
            "\t\t\t<ClusterID></ClusterID>\n",
            "\t\t</Author>\n",
            "\t\t<Author>\n",
            "\t\t\t<Name>Cao X</Name>\n",
            "\t\t\t<AuthType>Author</AuthType>\n",
            "\t\t\t<ClusterID></ClusterID>\n",
            "\t\t</Author>\n",
            "\t\t<Author>\n",
            "\t\t\t<Name>Jing X</Name>\n",
            "\t\t\t<AuthType>Author</AuthType>\n",
            "\t\t\t<ClusterID></ClusterID>\n",
            "\t\t</Author>\n",
            "\t\t<Author>\n",
            "\t\t\t<Name>Ramnarayanan K</Name>\n",
            "\t\t\t<AuthType>Author</AuthType>\n",
            "\t\t\t<ClusterID></ClusterID>\n",
            "\t\t</Author>\n",
            "\t\t<Author>\n",
            "\t\t\t<Name>Brenner JC</Name>\n",
            "\t\t\t<AuthType>Author</AuthType>\n",
            "\t\t\t<ClusterID></ClusterID>\n",
            "\t\t</Author>\n",
            "\t\t<Author>\n",
            "\t\t\t<Name>Yu J</Name>\n",
            "\t\t\t<AuthType>Author</AuthType>\n",
            "\t\t\t<ClusterID></ClusterID>\n",
            "\t\t</Author>\n",
            "\t\t<Author>\n",
            "\t\t\t<Name>Kim JH</Name>\n",
            "\t\t\t<AuthType>Author</AuthType>\n",
            "\t\t\t<ClusterID></ClusterID>\n",
            "\t\t</Author>\n",
            "\t\t<Author>\n",
            "\t\t\t<Name>Han B</Name>\n",
            "\t\t\t<AuthType>Author</AuthType>\n",
            "\t\t\t<ClusterID></ClusterID>\n",
            "\t\t</Author>\n",
            "\t\t<Author>\n",
            "\t\t\t<Name>Tan P</Name>\n",
            "\t\t\t<AuthType>Author</AuthType>\n",
            "\t\t\t<ClusterID></ClusterID>\n",
            "\t\t</Author>\n",
            "\t\t<Author>\n",
            "\t\t\t<Name>Kumar-Sinha C</Name>\n",
            "\t\t\t<AuthType>Author</AuthType>\n",
            "\t\t\t<ClusterID></ClusterID>\n",
            "\t\t</Author>\n",
            "\t\t<Author>\n",
            "\t\t\t<Name>Lonigro RJ</Name>\n",
            "\t\t\t<AuthType>Author</AuthType>\n",
            "\t\t\t<ClusterID></ClusterID>\n",
            "\t\t</Author>\n",
            "\t\t<Author>\n",
            "\t\t\t<Name>Palanisamy N</Name>\n",
            "\t\t\t<AuthType>Author</AuthType>\n",
            "\t\t\t<ClusterID></ClusterID>\n",
            "\t\t</Author>\n",
            "\t\t<Author>\n",
            "\t\t\t<Name>Maher CA</Name>\n",
            "\t\t\t<AuthType>Author</AuthType>\n",
            "\t\t\t<ClusterID></ClusterID>\n",
            "\t\t</Author>\n",
            "\t\t<Author>\n",
            "\t\t\t<Name>Chinnaiyan AM</Name>\n",
            "\t\t\t<AuthType>Author</AuthType>\n",
            "\t\t\t<ClusterID></ClusterID>\n",
            "\t\t</Author>\n",
            "\t</Authors>\n",
            "\t<LastAuthor>Chinnaiyan AM</LastAuthor>\n",
            "\t<Title>Genomic loss of microRNA-101 leads to overexpression of histone methyltransferase EZH2 in cancer.</Title>\n",
            "\t<SortTitle>genomic loss of microrna 101 leads to overexpression of histone methyltransferase ezh2 in cancer</SortTitle>\n",
            "\t<Volume>322</Volume>\n",
            "\t<Issue>5908</Issue>\n",
            "\t<Pages>1695-9</Pages>\n",
            "\t<Lang>\n",
            "\t\t<string>eng</string>\n",
            "\t</Lang>\n",
            "\t<NlmUniqueID>0404511</NlmUniqueID>\n",
            "\t<ISSN>0036-8075</ISSN>\n",
            "\t<ESSN>1095-9203</ESSN>\n",
            "\t<PubType>\n",
            "\t\t<flag>Journal Article</flag>\n",
            "\t</PubType>\n",
            "\t<RecordStatus>PubMed - indexed for MEDLINE</RecordStatus>\n",
            "\t<PubStatus>256</PubStatus>\n",
            "\t<ArticleIds>\n",
            "\t\t<ArticleId>\n",
            "\t\t\t<IdType>pubmed</IdType>\n",
            "\t\t\t<IdTypeN>1</IdTypeN>\n",
            "\t\t\t<Value>19008416</Value>\n",
            "\t\t</ArticleId>\n",
            "\t\t<ArticleId>\n",
            "\t\t\t<IdType>pii</IdType>\n",
            "\t\t\t<IdTypeN>4</IdTypeN>\n",
            "\t\t\t<Value>1165395</Value>\n",
            "\t\t</ArticleId>\n",
            "\t\t<ArticleId>\n",
            "\t\t\t<IdType>doi</IdType>\n",
            "\t\t\t<IdTypeN>3</IdTypeN>\n",
            "\t\t\t<Value>10.1126/science.1165395</Value>\n",
            "\t\t</ArticleId>\n",
            "\t\t<ArticleId>\n",
            "\t\t\t<IdType>pmc</IdType>\n",
            "\t\t\t<IdTypeN>8</IdTypeN>\n",
            "\t\t\t<Value>PMC2684823</Value>\n",
            "\t\t</ArticleId>\n",
            "\t\t<ArticleId>\n",
            "\t\t\t<IdType>mid</IdType>\n",
            "\t\t\t<IdTypeN>8</IdTypeN>\n",
            "\t\t\t<Value>NIHMS104414</Value>\n",
            "\t\t</ArticleId>\n",
            "\t\t<ArticleId>\n",
            "\t\t\t<IdType>rid</IdType>\n",
            "\t\t\t<IdTypeN>8</IdTypeN>\n",
            "\t\t\t<Value>19008416</Value>\n",
            "\t\t</ArticleId>\n",
            "\t\t<ArticleId>\n",
            "\t\t\t<IdType>eid</IdType>\n",
            "\t\t\t<IdTypeN>8</IdTypeN>\n",
            "\t\t\t<Value>19008416</Value>\n",
            "\t\t</ArticleId>\n",
            "\t\t<ArticleId>\n",
            "\t\t\t<IdType>pmcid</IdType>\n",
            "\t\t\t<IdTypeN>5</IdTypeN>\n",
            "\t\t\t<Value>pmc-id: PMC2684823;manuscript-id: NIHMS104414;</Value>\n",
            "\t\t</ArticleId>\n",
            "\t</ArticleIds>\n",
            "\t<History>\n",
            "\t\t<PubMedPubDate>\n",
            "\t\t\t<PubStatus>entrez</PubStatus>\n",
            "\t\t\t<Date>2008/11/15 09:00</Date>\n",
            "\t\t</PubMedPubDate>\n",
            "\t\t<PubMedPubDate>\n",
            "\t\t\t<PubStatus>pubmed</PubStatus>\n",
            "\t\t\t<Date>2008/11/15 09:00</Date>\n",
            "\t\t</PubMedPubDate>\n",
            "\t\t<PubMedPubDate>\n",
            "\t\t\t<PubStatus>medline</PubStatus>\n",
            "\t\t\t<Date>2009/01/06 09:00</Date>\n",
            "\t\t</PubMedPubDate>\n",
            "\t</History>\n",
            "\t<References>\n",
            "\t</References>\n",
            "\t<Attributes>\n",
            "\t\t<flag>Has Abstract</flag>\n",
            "\t</Attributes>\n",
            "\t<PmcRefCount>422</PmcRefCount>\n",
            "\t<FullJournalName>Science (New York, N.Y.)</FullJournalName>\n",
            "\t<ELocationID>doi: 10.1126/science.1165395</ELocationID>\n",
            "\t<DocType>citation</DocType>\n",
            "\t<SrcContribList>\n",
            "\t</SrcContribList>\n",
            "\t<BookTitle></BookTitle>\n",
            "\t<Medium></Medium>\n",
            "\t<Edition></Edition>\n",
            "\t<PublisherLocation></PublisherLocation>\n",
            "\t<PublisherName></PublisherName>\n",
            "\t<SrcDate></SrcDate>\n",
            "\t<ReportNumber></ReportNumber>\n",
            "\t<AvailableFromURL></AvailableFromURL>\n",
            "\t<LocationLabel></LocationLabel>\n",
            "\t<DocContribList>\n",
            "\t</DocContribList>\n",
            "\t<DocDate></DocDate>\n",
            "\t<BookName></BookName>\n",
            "\t<Chapter></Chapter>\n",
            "\t<SortPubDate>2008/12/12 00:00</SortPubDate>\n",
            "\t<SortFirstAuthor>Varambally S</SortFirstAuthor>\n",
            "\t<VernacularTitle></VernacularTitle>\n",
            "</DocumentSummary>\n",
            "\n",
            "</DocumentSummarySet>\n",
            "</eSummaryResult>\n",
            "\n"
          ],
          "name": "stdout"
        }
      ]
    },
    {
      "cell_type": "code",
      "metadata": {
        "id": "zb5DvnkAJtZX"
      },
      "source": [
        "# We can extract metadata of interest.\n",
        "# For instance, let us retrieve the published data\n",
        "root = ET.fromstring(response.text)"
      ],
      "execution_count": null,
      "outputs": []
    },
    {
      "cell_type": "code",
      "metadata": {
        "colab": {
          "base_uri": "https://localhost:8080/"
        },
        "id": "8l1anUwcLRwj",
        "outputId": "c3b1513b-c389-4732-c43a-8e13c9d08688"
      },
      "source": [
        "for date in root.iter(\"PubDate\"):\n",
        "  print(date.text)"
      ],
      "execution_count": null,
      "outputs": [
        {
          "output_type": "stream",
          "text": [
            "2008 Dec 12\n"
          ],
          "name": "stdout"
        }
      ]
    },
    {
      "cell_type": "markdown",
      "metadata": {
        "id": "QTGiWr9RMJHq"
      },
      "source": [
        "So extraction of information can be performed this way, but there needs to be a more scalable way.\n",
        "\n",
        "Currently, there are Python packages that exist that can expedite this process. (This is where the API key comes in handy.)\n",
        "\n",
        "[BioEntrez](https://biopython.org/docs/1.75/api/Bio.Entrez.html)\n",
        "\n",
        "We will be using `Bio.Entrez.esummary(**keywds)` to retrieve document summaries on PMIDs of interest."
      ]
    },
    {
      "cell_type": "code",
      "metadata": {
        "colab": {
          "base_uri": "https://localhost:8080/"
        },
        "id": "azLZP2dOMpkr",
        "outputId": "01fb4b23-1d5f-410a-84e5-c575c2d16709"
      },
      "source": [
        "# Installing Bio Entrez\n",
        "!pip install Bio"
      ],
      "execution_count": null,
      "outputs": [
        {
          "output_type": "stream",
          "text": [
            "Collecting Bio\n",
            "  Downloading bio-0.7.4-py3-none-any.whl (80 kB)\n",
            "\u001b[?25l\r\u001b[K     |████                            | 10 kB 36.7 MB/s eta 0:00:01\r\u001b[K     |████████▏                       | 20 kB 39.9 MB/s eta 0:00:01\r\u001b[K     |████████████▎                   | 30 kB 46.9 MB/s eta 0:00:01\r\u001b[K     |████████████████▍               | 40 kB 19.1 MB/s eta 0:00:01\r\u001b[K     |████████████████████▌           | 51 kB 14.5 MB/s eta 0:00:01\r\u001b[K     |████████████████████████▋       | 61 kB 14.8 MB/s eta 0:00:01\r\u001b[K     |████████████████████████████▋   | 71 kB 13.7 MB/s eta 0:00:01\r\u001b[K     |████████████████████████████████| 80 kB 5.0 MB/s \n",
            "\u001b[?25hRequirement already satisfied: tqdm>=4.62 in /usr/local/lib/python3.7/dist-packages (from Bio) (4.62.0)\n",
            "Requirement already satisfied: plac in /usr/local/lib/python3.7/dist-packages (from Bio) (1.1.3)\n",
            "Collecting biopython>=1.79\n",
            "  Downloading biopython-1.79-cp37-cp37m-manylinux_2_5_x86_64.manylinux1_x86_64.whl (2.3 MB)\n",
            "\u001b[K     |████████████████████████████████| 2.3 MB 41.3 MB/s \n",
            "\u001b[?25hRequirement already satisfied: requests in /usr/local/lib/python3.7/dist-packages (from Bio) (2.23.0)\n",
            "Requirement already satisfied: numpy in /usr/local/lib/python3.7/dist-packages (from biopython>=1.79->Bio) (1.19.5)\n",
            "Requirement already satisfied: chardet<4,>=3.0.2 in /usr/local/lib/python3.7/dist-packages (from requests->Bio) (3.0.4)\n",
            "Requirement already satisfied: urllib3!=1.25.0,!=1.25.1,<1.26,>=1.21.1 in /usr/local/lib/python3.7/dist-packages (from requests->Bio) (1.24.3)\n",
            "Requirement already satisfied: idna<3,>=2.5 in /usr/local/lib/python3.7/dist-packages (from requests->Bio) (2.10)\n",
            "Requirement already satisfied: certifi>=2017.4.17 in /usr/local/lib/python3.7/dist-packages (from requests->Bio) (2021.5.30)\n",
            "Installing collected packages: biopython, Bio\n",
            "Successfully installed Bio-0.7.4 biopython-1.79\n"
          ],
          "name": "stdout"
        }
      ]
    },
    {
      "cell_type": "code",
      "metadata": {
        "id": "ity4RMOrMm6n"
      },
      "source": [
        "from Bio import Entrez\n",
        "Entrez.email = \"Your.Name.Here@example.org\"\n",
        "handle = Entrez.esummary(db=\"pubmed\", id=\"19008416\")\n",
        "record = Entrez.read(handle)\n",
        "handle.close()"
      ],
      "execution_count": null,
      "outputs": []
    },
    {
      "cell_type": "code",
      "metadata": {
        "colab": {
          "base_uri": "https://localhost:8080/"
        },
        "id": "2ietmTVtNK9-",
        "outputId": "0dc99093-95f6-425a-98e2-1a579bb89ff5"
      },
      "source": [
        "# record now contains the esummary for PMID 19008416\n",
        "# Note that the id parameter will accept a list of PMIDs\n",
        "# Entrez.read returns a list.\n",
        "# Given that we have only supplied one PMID, the list is going to be length 1\n",
        "# Note that Python uses zero-indexing, so the first record will start at 0\n",
        "print(record[0])"
      ],
      "execution_count": null,
      "outputs": [
        {
          "output_type": "stream",
          "text": [
            "{'Item': [], 'Id': '19008416', 'PubDate': '2008 Dec 12', 'EPubDate': '2008 Nov 13', 'Source': 'Science', 'AuthorList': ['Varambally S', 'Cao Q', 'Mani RS', 'Shankar S', 'Wang X', 'Ateeq B', 'Laxman B', 'Cao X', 'Jing X', 'Ramnarayanan K', 'Brenner JC', 'Yu J', 'Kim JH', 'Han B', 'Tan P', 'Kumar-Sinha C', 'Lonigro RJ', 'Palanisamy N', 'Maher CA', 'Chinnaiyan AM'], 'LastAuthor': 'Chinnaiyan AM', 'Title': 'Genomic loss of microRNA-101 leads to overexpression of histone methyltransferase EZH2 in cancer.', 'Volume': '322', 'Issue': '5908', 'Pages': '1695-9', 'LangList': ['English'], 'NlmUniqueID': '0404511', 'ISSN': '0036-8075', 'ESSN': '1095-9203', 'PubTypeList': ['Journal Article'], 'RecordStatus': 'PubMed - indexed for MEDLINE', 'PubStatus': 'ppublish+epublish', 'ArticleIds': {'pubmed': ['19008416'], 'medline': [], 'pii': '1165395', 'doi': '10.1126/science.1165395', 'pmc': 'PMC2684823', 'mid': 'NIHMS104414', 'rid': '19008416', 'eid': '19008416', 'pmcid': 'pmc-id: PMC2684823;manuscript-id: NIHMS104414;'}, 'DOI': '10.1126/science.1165395', 'History': {'pubmed': ['2008/11/15 09:00'], 'medline': ['2009/01/06 09:00'], 'entrez': '2008/11/15 09:00'}, 'References': [], 'HasAbstract': IntegerElement(1, attributes={}), 'PmcRefCount': IntegerElement(422, attributes={}), 'FullJournalName': 'Science (New York, N.Y.)', 'ELocationID': 'doi: 10.1126/science.1165395', 'SO': '2008 Dec 12;322(5908):1695-9'}\n"
          ],
          "name": "stdout"
        }
      ]
    },
    {
      "cell_type": "code",
      "metadata": {
        "colab": {
          "base_uri": "https://localhost:8080/"
        },
        "id": "BvJbe42ENkV4",
        "outputId": "07fcf2b3-b40c-45f9-b137-90c5e7b53126"
      },
      "source": [
        "# This object is technically a JSON object, which is akin to a Python Dictionary\n",
        "# Let's see if we can extract the PubDate\n",
        "print(record[0]['PubDate'])"
      ],
      "execution_count": null,
      "outputs": [
        {
          "output_type": "stream",
          "text": [
            "2008 Dec 12\n"
          ],
          "name": "stdout"
        }
      ]
    },
    {
      "cell_type": "markdown",
      "metadata": {
        "id": "ayaendvBNyvl"
      },
      "source": [
        "Knowing this information, let us go ahead and create a function out of this. This function should accept a list of PMIDs and output a Pandas DataFrame."
      ]
    },
    {
      "cell_type": "code",
      "metadata": {
        "id": "VwfqrNaEONEG"
      },
      "source": [
        "def returnPMIDdata(list_of_pmids):\n",
        "  # Convert to string data type first\n",
        "  list_of_pmids = list(map(str,list_of_pmids))\n",
        "\n",
        "  # Join the list of PMIDS into one string object\n",
        "  str_pmids = ','.join(list_of_pmids)\n",
        "\n",
        "  # Calling Entrez.esummary to send request to API\n",
        "  handle = Entrez.esummary(db=\"pubmed\", id=str_pmids)\n",
        "  record = Entrez.read(handle)\n",
        "  \n",
        "  # Closing the connection\n",
        "  handle.close()\n",
        "\n",
        "  # Identifying what metadata we would like\n",
        "  columns = ['PubDate', 'Source', 'Title', 'Volume', 'Issue', 'DOI', 'FullJournalName']\n",
        "  \n",
        "  # Converting the data into a dataframe\n",
        "  df = pd.DataFrame(columns=columns)\n",
        "\n",
        "  # Adding data into dataframe\n",
        "  for count, value in enumerate(record):\n",
        "    df.loc[count,'PubDate'] = value['PubDate']\n",
        "    df.loc[count,'Source'] = value['Source']\n",
        "    df.loc[count,'Title'] = value['Title']\n",
        "    df.loc[count,'Volume'] = value['Volume']\n",
        "    df.loc[count,'Issue'] = value['Issue']\n",
        "    df.loc[count,'DOI'] = value['DOI']\n",
        "    df.loc[count,'FullJournalName'] = value['FullJournalName']\n",
        "\n",
        "  # Return dataframe\n",
        "  return df\n",
        "    "
      ],
      "execution_count": null,
      "outputs": []
    },
    {
      "cell_type": "code",
      "metadata": {
        "id": "4V33JKulOWj0"
      },
      "source": [
        "list_of_pmids = [19008416, 18927361, 18787170, 18487186, 18239126, 18239125]"
      ],
      "execution_count": null,
      "outputs": []
    },
    {
      "cell_type": "markdown",
      "metadata": {
        "id": "azO5FJ2APkLV"
      },
      "source": [
        "**Explaining what is going on under the hood in the returnPMIDdata function**"
      ]
    },
    {
      "cell_type": "code",
      "metadata": {
        "colab": {
          "base_uri": "https://localhost:8080/"
        },
        "id": "DooNHC-9Oqi3",
        "outputId": "1ba48227-ce8a-42de-d823-69ffe6339fdf"
      },
      "source": [
        "list_pmids = list(map(str,list_of_pmids))\n",
        "print(list_pmids)"
      ],
      "execution_count": null,
      "outputs": [
        {
          "output_type": "stream",
          "text": [
            "['19008416', '18927361', '18787170', '18487186', '18239126', '18239125']\n"
          ],
          "name": "stdout"
        }
      ]
    },
    {
      "cell_type": "code",
      "metadata": {
        "colab": {
          "base_uri": "https://localhost:8080/"
        },
        "id": "FBZDFE-hPseq",
        "outputId": "40827604-4790-40c3-ccc6-7dfb9c8e76e3"
      },
      "source": [
        "# Joining the pmids into one string object\n",
        "str_pmids = ','.join(list_pmids)\n",
        "print(str_pmids)"
      ],
      "execution_count": null,
      "outputs": [
        {
          "output_type": "stream",
          "text": [
            "19008416,18927361,18787170,18487186,18239126,18239125\n"
          ],
          "name": "stdout"
        }
      ]
    },
    {
      "cell_type": "code",
      "metadata": {
        "colab": {
          "base_uri": "https://localhost:8080/"
        },
        "id": "tEhrcYVmPy6t",
        "outputId": "56fc1b2c-1fa4-4ba0-9219-3e81e82740e8"
      },
      "source": [
        "# Calling Entrez.esummary to send request to API\n",
        "handle = Entrez.esummary(db=\"pubmed\", id=str_pmids)\n",
        "record = Entrez.read(handle)\n",
        "\n",
        "# Closing the connection\n",
        "handle.close()\n",
        "\n",
        "print(record)"
      ],
      "execution_count": null,
      "outputs": [
        {
          "output_type": "stream",
          "text": [
            "[{'Item': [], 'Id': '19008416', 'PubDate': '2008 Dec 12', 'EPubDate': '2008 Nov 13', 'Source': 'Science', 'AuthorList': ['Varambally S', 'Cao Q', 'Mani RS', 'Shankar S', 'Wang X', 'Ateeq B', 'Laxman B', 'Cao X', 'Jing X', 'Ramnarayanan K', 'Brenner JC', 'Yu J', 'Kim JH', 'Han B', 'Tan P', 'Kumar-Sinha C', 'Lonigro RJ', 'Palanisamy N', 'Maher CA', 'Chinnaiyan AM'], 'LastAuthor': 'Chinnaiyan AM', 'Title': 'Genomic loss of microRNA-101 leads to overexpression of histone methyltransferase EZH2 in cancer.', 'Volume': '322', 'Issue': '5908', 'Pages': '1695-9', 'LangList': ['English'], 'NlmUniqueID': '0404511', 'ISSN': '0036-8075', 'ESSN': '1095-9203', 'PubTypeList': ['Journal Article'], 'RecordStatus': 'PubMed - indexed for MEDLINE', 'PubStatus': 'ppublish+epublish', 'ArticleIds': {'pubmed': ['19008416'], 'medline': [], 'pii': '1165395', 'doi': '10.1126/science.1165395', 'pmc': 'PMC2684823', 'mid': 'NIHMS104414', 'rid': '19008416', 'eid': '19008416', 'pmcid': 'pmc-id: PMC2684823;manuscript-id: NIHMS104414;'}, 'DOI': '10.1126/science.1165395', 'History': {'pubmed': ['2008/11/15 09:00'], 'medline': ['2009/01/06 09:00'], 'entrez': '2008/11/15 09:00'}, 'References': [], 'HasAbstract': IntegerElement(1, attributes={}), 'PmcRefCount': IntegerElement(422, attributes={}), 'FullJournalName': 'Science (New York, N.Y.)', 'ELocationID': 'doi: 10.1126/science.1165395', 'SO': '2008 Dec 12;322(5908):1695-9'}, {'Item': [], 'Id': '18927361', 'PubDate': '2008 Oct 17', 'EPubDate': '', 'Source': 'Science', 'AuthorList': ['Couzin J'], 'LastAuthor': 'Couzin J', 'Title': 'Genetics. DNA test for breast cancer risk draws criticism.', 'Volume': '322', 'Issue': '5900', 'Pages': '357', 'LangList': ['English'], 'NlmUniqueID': '0404511', 'ISSN': '0036-8075', 'ESSN': '1095-9203', 'PubTypeList': ['News'], 'RecordStatus': 'PubMed - indexed for MEDLINE', 'PubStatus': 'ppublish', 'ArticleIds': {'pubmed': ['18927361'], 'medline': [], 'pii': '322/5900/357', 'doi': '10.1126/science.322.5900.357', 'rid': '18927361', 'eid': '18927361'}, 'DOI': '10.1126/science.322.5900.357', 'History': {'pubmed': ['2008/10/18 09:00'], 'medline': ['2008/11/04 09:00'], 'entrez': '2008/10/18 09:00'}, 'References': [], 'HasAbstract': IntegerElement(0, attributes={}), 'PmcRefCount': IntegerElement(5, attributes={}), 'FullJournalName': 'Science (New York, N.Y.)', 'ELocationID': 'doi: 10.1126/science.322.5900.357', 'SO': '2008 Oct 17;322(5900):357'}, {'Item': [], 'Id': '18787170', 'PubDate': '2008 Sep 12', 'EPubDate': '', 'Source': 'Science', 'AuthorList': ['Mao JH', 'Kim IJ', 'Wu D', 'Climent J', 'Kang HC', 'DelRosario R', 'Balmain A'], 'LastAuthor': 'Balmain A', 'Title': 'FBXW7 targets mTOR for degradation and cooperates with PTEN in tumor suppression.', 'Volume': '321', 'Issue': '5895', 'Pages': '1499-502', 'LangList': ['English'], 'NlmUniqueID': '0404511', 'ISSN': '0036-8075', 'ESSN': '1095-9203', 'PubTypeList': ['Journal Article'], 'RecordStatus': 'PubMed - indexed for MEDLINE', 'PubStatus': 'ppublish', 'ArticleIds': {'pubmed': ['18787170'], 'medline': [], 'pii': '321/5895/1499', 'doi': '10.1126/science.1162981', 'pmc': 'PMC2849753', 'mid': 'NIHMS132604', 'rid': '18787170', 'eid': '18787170', 'pmcid': 'pmc-id: PMC2849753;manuscript-id: NIHMS132604;'}, 'DOI': '10.1126/science.1162981', 'History': {'pubmed': ['2008/09/13 09:00'], 'medline': ['2008/09/26 09:00'], 'entrez': '2008/09/13 09:00'}, 'References': [], 'HasAbstract': IntegerElement(1, attributes={}), 'PmcRefCount': IntegerElement(197, attributes={}), 'FullJournalName': 'Science (New York, N.Y.)', 'ELocationID': 'doi: 10.1126/science.1162981', 'SO': '2008 Sep 12;321(5895):1499-502'}, {'Item': [], 'Id': '18487186', 'PubDate': '2008 May 16', 'EPubDate': '', 'Source': 'Science', 'AuthorList': ['Bromberg KD', \"Ma'ayan A\", 'Neves SR', 'Iyengar R'], 'LastAuthor': 'Iyengar R', 'Title': 'Design logic of a cannabinoid receptor signaling network that triggers neurite outgrowth.', 'Volume': '320', 'Issue': '5878', 'Pages': '903-9', 'LangList': ['English'], 'NlmUniqueID': '0404511', 'ISSN': '0036-8075', 'ESSN': '1095-9203', 'PubTypeList': ['Journal Article'], 'RecordStatus': 'PubMed - indexed for MEDLINE', 'PubStatus': 'ppublish', 'ArticleIds': {'pubmed': ['18487186'], 'medline': [], 'pii': '320/5878/903', 'doi': '10.1126/science.1152662', 'pmc': 'PMC2776723', 'mid': 'NIHMS142954', 'rid': '18487186', 'eid': '18487186', 'pmcid': 'pmc-id: PMC2776723;manuscript-id: NIHMS142954;'}, 'DOI': '10.1126/science.1152662', 'History': {'pubmed': ['2008/05/20 09:00'], 'medline': ['2008/05/28 09:00'], 'entrez': '2008/05/20 09:00'}, 'References': [], 'HasAbstract': IntegerElement(1, attributes={}), 'PmcRefCount': IntegerElement(73, attributes={}), 'FullJournalName': 'Science (New York, N.Y.)', 'ELocationID': 'doi: 10.1126/science.1152662', 'SO': '2008 May 16;320(5878):903-9'}, {'Item': [], 'Id': '18239126', 'PubDate': '2008 Feb 1', 'EPubDate': '', 'Source': 'Science', 'AuthorList': ['Schlabach MR', 'Luo J', 'Solimini NL', 'Hu G', 'Xu Q', 'Li MZ', 'Zhao Z', 'Smogorzewska A', 'Sowa ME', 'Ang XL', 'Westbrook TF', 'Liang AC', 'Chang K', 'Hackett JA', 'Harper JW', 'Hannon GJ', 'Elledge SJ'], 'LastAuthor': 'Elledge SJ', 'Title': 'Cancer proliferation gene discovery through functional genomics.', 'Volume': '319', 'Issue': '5863', 'Pages': '620-4', 'LangList': ['English'], 'NlmUniqueID': '0404511', 'ISSN': '0036-8075', 'ESSN': '1095-9203', 'PubTypeList': ['Journal Article'], 'RecordStatus': 'PubMed - indexed for MEDLINE', 'PubStatus': 'ppublish', 'ArticleIds': {'pubmed': ['18239126'], 'medline': [], 'pii': '319/5863/620', 'doi': '10.1126/science.1149200', 'pmc': 'PMC2981870', 'mid': 'NIHMS249937', 'rid': '18239126', 'eid': '18239126', 'pmcid': 'pmc-id: PMC2981870;manuscript-id: NIHMS249937;'}, 'DOI': '10.1126/science.1149200', 'History': {'pubmed': ['2008/02/02 09:00'], 'medline': ['2008/02/13 09:00'], 'entrez': '2008/02/02 09:00'}, 'References': ['Science.2008 Apr 18;320(5874):316'], 'HasAbstract': IntegerElement(1, attributes={}), 'PmcRefCount': IntegerElement(199, attributes={}), 'FullJournalName': 'Science (New York, N.Y.)', 'ELocationID': 'doi: 10.1126/science.1149200', 'SO': '2008 Feb 1;319(5863):620-4'}, {'Item': [], 'Id': '18239125', 'PubDate': '2008 Feb 1', 'EPubDate': '', 'Source': 'Science', 'AuthorList': ['Silva JM', 'Marran K', 'Parker JS', 'Silva J', 'Golding M', 'Schlabach MR', 'Elledge SJ', 'Hannon GJ', 'Chang K'], 'LastAuthor': 'Chang K', 'Title': 'Profiling essential genes in human mammary cells by multiplex RNAi screening.', 'Volume': '319', 'Issue': '5863', 'Pages': '617-20', 'LangList': ['English'], 'NlmUniqueID': '0404511', 'ISSN': '0036-8075', 'ESSN': '1095-9203', 'PubTypeList': ['Journal Article'], 'RecordStatus': 'PubMed - indexed for MEDLINE', 'PubStatus': 'ppublish', 'ArticleIds': {'pubmed': ['18239125'], 'medline': [], 'pii': '319/5863/617', 'doi': '10.1126/science.1149185', 'pmc': 'PMC2981861', 'mid': 'NIHMS249659', 'rid': '18239125', 'eid': '18239125', 'pmcid': 'pmc-id: PMC2981861;manuscript-id: NIHMS249659;'}, 'DOI': '10.1126/science.1149185', 'History': {'pubmed': ['2008/02/02 09:00'], 'medline': ['2008/02/13 09:00'], 'entrez': '2008/02/02 09:00'}, 'References': [], 'HasAbstract': IntegerElement(1, attributes={}), 'PmcRefCount': IntegerElement(148, attributes={}), 'FullJournalName': 'Science (New York, N.Y.)', 'ELocationID': 'doi: 10.1126/science.1149185', 'SO': '2008 Feb 1;319(5863):617-20'}]\n"
          ],
          "name": "stdout"
        }
      ]
    },
    {
      "cell_type": "code",
      "metadata": {
        "colab": {
          "base_uri": "https://localhost:8080/"
        },
        "id": "Sc5lIU3TQKxm",
        "outputId": "6caf91a1-3eff-409d-e95c-2f6fa2c363df"
      },
      "source": [
        "# Number of items\n",
        "print(len(record))"
      ],
      "execution_count": null,
      "outputs": [
        {
          "output_type": "stream",
          "text": [
            "6\n"
          ],
          "name": "stdout"
        }
      ]
    },
    {
      "cell_type": "code",
      "metadata": {
        "colab": {
          "base_uri": "https://localhost:8080/"
        },
        "id": "eitgulGJQNwK",
        "outputId": "12d98eb9-ad54-4f4f-f54c-1ad486aa3eaf"
      },
      "source": [
        "# What data fields exist within this response?\n",
        "record[0].keys()"
      ],
      "execution_count": null,
      "outputs": [
        {
          "output_type": "execute_result",
          "data": {
            "text/plain": [
              "dict_keys(['Item', 'Id', 'PubDate', 'EPubDate', 'Source', 'AuthorList', 'LastAuthor', 'Title', 'Volume', 'Issue', 'Pages', 'LangList', 'NlmUniqueID', 'ISSN', 'ESSN', 'PubTypeList', 'RecordStatus', 'PubStatus', 'ArticleIds', 'DOI', 'History', 'References', 'HasAbstract', 'PmcRefCount', 'FullJournalName', 'ELocationID', 'SO'])"
            ]
          },
          "metadata": {},
          "execution_count": 111
        }
      ]
    },
    {
      "cell_type": "code",
      "metadata": {
        "id": "bfUkDCPPTPrT"
      },
      "source": [
        "# Let's say we are interested in 'PubDate', 'Source', 'Title', 'Volume', 'Issue', 'DOI', 'FullJournalName'\n",
        "columns = ['PubDate', 'Source', 'Title', 'Volume', 'Issue', 'DOI', 'FullJournalName']"
      ],
      "execution_count": null,
      "outputs": []
    },
    {
      "cell_type": "code",
      "metadata": {
        "colab": {
          "base_uri": "https://localhost:8080/"
        },
        "id": "zGjjrEmCUFR5",
        "outputId": "30bb98d1-d2a6-43f8-bb56-24209cc1b833"
      },
      "source": [
        "# Let's examine the first item in the list\n",
        "for column in columns:\n",
        "  print(record[0][column])"
      ],
      "execution_count": null,
      "outputs": [
        {
          "output_type": "stream",
          "text": [
            "2008 Dec 12\n",
            "Science\n",
            "Genomic loss of microRNA-101 leads to overexpression of histone methyltransferase EZH2 in cancer.\n",
            "322\n",
            "5908\n",
            "10.1126/science.1165395\n",
            "Science (New York, N.Y.)\n"
          ],
          "name": "stdout"
        }
      ]
    },
    {
      "cell_type": "markdown",
      "metadata": {
        "id": "_-haOhHSUP7o"
      },
      "source": [
        "You can see that this is then converted into a dataframe via the function."
      ]
    },
    {
      "cell_type": "code",
      "metadata": {
        "colab": {
          "base_uri": "https://localhost:8080/",
          "height": 714
        },
        "id": "6ljEhq4QUT6o",
        "outputId": "412f5595-147e-4779-d5ad-e300ccc91357"
      },
      "source": [
        "sample_df = returnPMIDdata(list_of_pmids)\n",
        "sample_df"
      ],
      "execution_count": null,
      "outputs": [
        {
          "output_type": "execute_result",
          "data": {
            "text/html": [
              "<div>\n",
              "<style scoped>\n",
              "    .dataframe tbody tr th:only-of-type {\n",
              "        vertical-align: middle;\n",
              "    }\n",
              "\n",
              "    .dataframe tbody tr th {\n",
              "        vertical-align: top;\n",
              "    }\n",
              "\n",
              "    .dataframe thead th {\n",
              "        text-align: right;\n",
              "    }\n",
              "</style>\n",
              "<table border=\"1\" class=\"dataframe\">\n",
              "  <thead>\n",
              "    <tr style=\"text-align: right;\">\n",
              "      <th></th>\n",
              "      <th>PubDate</th>\n",
              "      <th>Source</th>\n",
              "      <th>Title</th>\n",
              "      <th>Volume</th>\n",
              "      <th>Issue</th>\n",
              "      <th>DOI</th>\n",
              "      <th>FullJournalName</th>\n",
              "    </tr>\n",
              "  </thead>\n",
              "  <tbody>\n",
              "    <tr>\n",
              "      <th>0</th>\n",
              "      <td>2008 Dec 12</td>\n",
              "      <td>Science</td>\n",
              "      <td>Genomic loss of microRNA-101 leads to overexpr...</td>\n",
              "      <td>322</td>\n",
              "      <td>5908</td>\n",
              "      <td>10.1126/science.1165395</td>\n",
              "      <td>Science (New York, N.Y.)</td>\n",
              "    </tr>\n",
              "    <tr>\n",
              "      <th>1</th>\n",
              "      <td>2008 Oct 17</td>\n",
              "      <td>Science</td>\n",
              "      <td>Genetics. DNA test for breast cancer risk draw...</td>\n",
              "      <td>322</td>\n",
              "      <td>5900</td>\n",
              "      <td>10.1126/science.322.5900.357</td>\n",
              "      <td>Science (New York, N.Y.)</td>\n",
              "    </tr>\n",
              "    <tr>\n",
              "      <th>2</th>\n",
              "      <td>2008 Sep 12</td>\n",
              "      <td>Science</td>\n",
              "      <td>FBXW7 targets mTOR for degradation and coopera...</td>\n",
              "      <td>321</td>\n",
              "      <td>5895</td>\n",
              "      <td>10.1126/science.1162981</td>\n",
              "      <td>Science (New York, N.Y.)</td>\n",
              "    </tr>\n",
              "    <tr>\n",
              "      <th>3</th>\n",
              "      <td>2008 May 16</td>\n",
              "      <td>Science</td>\n",
              "      <td>Design logic of a cannabinoid receptor signali...</td>\n",
              "      <td>320</td>\n",
              "      <td>5878</td>\n",
              "      <td>10.1126/science.1152662</td>\n",
              "      <td>Science (New York, N.Y.)</td>\n",
              "    </tr>\n",
              "    <tr>\n",
              "      <th>4</th>\n",
              "      <td>2008 Feb 1</td>\n",
              "      <td>Science</td>\n",
              "      <td>Cancer proliferation gene discovery through fu...</td>\n",
              "      <td>319</td>\n",
              "      <td>5863</td>\n",
              "      <td>10.1126/science.1149200</td>\n",
              "      <td>Science (New York, N.Y.)</td>\n",
              "    </tr>\n",
              "    <tr>\n",
              "      <th>5</th>\n",
              "      <td>2008 Feb 1</td>\n",
              "      <td>Science</td>\n",
              "      <td>Profiling essential genes in human mammary cel...</td>\n",
              "      <td>319</td>\n",
              "      <td>5863</td>\n",
              "      <td>10.1126/science.1149185</td>\n",
              "      <td>Science (New York, N.Y.)</td>\n",
              "    </tr>\n",
              "  </tbody>\n",
              "</table>\n",
              "</div>"
            ],
            "text/plain": [
              "       PubDate   Source  ...                           DOI           FullJournalName\n",
              "0  2008 Dec 12  Science  ...       10.1126/science.1165395  Science (New York, N.Y.)\n",
              "1  2008 Oct 17  Science  ...  10.1126/science.322.5900.357  Science (New York, N.Y.)\n",
              "2  2008 Sep 12  Science  ...       10.1126/science.1162981  Science (New York, N.Y.)\n",
              "3  2008 May 16  Science  ...       10.1126/science.1152662  Science (New York, N.Y.)\n",
              "4   2008 Feb 1  Science  ...       10.1126/science.1149200  Science (New York, N.Y.)\n",
              "5   2008 Feb 1  Science  ...       10.1126/science.1149185  Science (New York, N.Y.)\n",
              "\n",
              "[6 rows x 7 columns]"
            ]
          },
          "metadata": {},
          "execution_count": 115
        }
      ]
    },
    {
      "cell_type": "markdown",
      "metadata": {
        "id": "a0DrNrTTv0tG"
      },
      "source": [
        "# Accessing E-utilities via Unix\n",
        "**Advanced Topic**\n",
        "\n",
        "E-utilities provides an API via the Unix command line. If you are adept at Unix and command line interfaces, then this can also be an alternative method to pulling in data.\n",
        "\n",
        "This setup will take advantage of the underlying Google Compute Engine (Virtual Machine) that powers Google Colabs. Google Colabs is a Jupyter-like notebook that layers on top of a virtual machine. For Google Colab Pro users, you can access the terminal by clicking on the icon at the bottom left of the screen.\n",
        "\n",
        "Regardless of whether you have Google Colab Pro or not, the function below `e_utilities_intall()` will enable this Colab to access the Unix-based E-utilities API."
      ]
    },
    {
      "cell_type": "code",
      "metadata": {
        "id": "TVGKqOh2v4NH"
      },
      "source": [
        "# Installing E-utilities Entrez Direct\n",
        "def e_utilities_install():\n",
        "  \"\"\"\n",
        "  Installs e_utilities\n",
        "  Reference: https://www.ncbi.nlm.nih.gov/books/NBK179288/\n",
        "  \"\"\"\n",
        "  !sh -c \"$(curl -fsSL ftp://ftp.ncbi.nlm.nih.gov/entrez/entrezdirect/install-edirect.sh)\"\n",
        "  !echo 'export PATH=\\$PATH:\\$HOME/edirect' >> $HOME/.bash_profile"
      ],
      "execution_count": null,
      "outputs": []
    },
    {
      "cell_type": "code",
      "metadata": {
        "id": "HQLM_F2WyJH5"
      },
      "source": [
        "\n",
        "# Defining Functions\n",
        "def pull_pmid_metadata(pmid: list) -> pd.DataFrame:\n",
        "  \"\"\"\n",
        "  This is dependent on E-utilities. The input parameter is a list of PMIDs.\n",
        "  The output is is a Pandas DataFrame with the following columns:\n",
        "\n",
        "  1. PMID\n",
        "  2. PubMed Article Title\n",
        "  3. DateCompleted (Year_Month_Day)\n",
        "  4. DateRevised (Year_Month_Day)\n",
        "  5. Journal Title\n",
        "  6. Publication Date (Year_Month_Day)\n",
        "  7. Abstract\n",
        "  8. Author FirstName_LastName_Affiliation (Note that that three values are\n",
        "  separated by \"_\". If an author has affilitations to multiple institions, the\n",
        "  institutions are separated by the character \"/\".)\n",
        "\n",
        "  @param pmid: Takes a list of PMIDs produced by function pull_pmid\n",
        "  @return: Returns a Pandas DataFrame\n",
        "  @raise keyError: raises an exception\n",
        "  \"\"\"\n",
        "  columns = [\"PMID\", \"PubMed_Article_Title\", \"Date_Completed_Year\", \n",
        "             \"Date_Completed_Month\", \"Date_Completed_Day\", \"Date_Revised_Year\", \n",
        "             \"Date_Revised_Month\", \"Date_Revised_Day\", \"Journal_Title\",\n",
        "             \"Publication_Date_Year\", \"Publication_Date_Month\", \"Publication_Date_Day\",\n",
        "             \"Abstract\", \"AuthorFirstName_AuthorLastName_Affiliation\"]\n",
        "  df = pd.DataFrame(columns=columns)\n",
        "\n",
        "  for id, i in enumerate(pmid):\n",
        "    try:\n",
        "      _temp = f'''$HOME/edirect/efetch -db pubmed -id {i} -format xml \\\n",
        "| $HOME/edirect/xtract -pattern PubmedArticle -tab \"|\" -def \"NULL\" -sep \",\" -element MedlineCitation/PMID ArticleTitle \\\n",
        "DateCompleted/Year DateCompleted/Month DateCompleted/Day DateRevised/Year DateRevised/Month DateRevised/Day Journal/Title \\\n",
        "PubDate/Year PubDate/Month PubDate/Day AbstractText \\\n",
        "-block Author -tab \"/\" -def \"NULL\" -sep \"_\" -element ForeName,LastName,Affiliation'''\n",
        "\n",
        "      _result = !{_temp}\n",
        "      _temp = _result[0].split(\"|\")\n",
        "\n",
        "      for _count, _value in enumerate(_temp):\n",
        "        df.loc[id,columns[_count]] = _value\n",
        "        \n",
        "    except Exception as e:\n",
        "      print(f\"Error Raised when Querying Unix EDirect for PMID: {i}\")\n",
        "      print(e)\n",
        "\n",
        "  # Prior to returning df\n",
        "  # If any cells have empty values, convert to NULL\n",
        "  df = df.replace(r'', \"NULL\", regex=True)\n",
        "\n",
        "  return df"
      ],
      "execution_count": null,
      "outputs": []
    },
    {
      "cell_type": "markdown",
      "metadata": {
        "id": "OahL1a4rKvAA"
      },
      "source": [
        "The function above will input a list of PMIDs (`[]`) and the output will be a Pandas DataFrame.\n",
        "\n",
        "In case you are interested in what is run under the hood, an example Unix Query is being executed and the returning data is then ported into a data frame."
      ]
    },
    {
      "cell_type": "markdown",
      "metadata": {
        "id": "hS7ck9GvLF8h"
      },
      "source": [
        "## Main"
      ]
    },
    {
      "cell_type": "code",
      "metadata": {
        "colab": {
          "base_uri": "https://localhost:8080/"
        },
        "id": "DEz65_5sLH3T",
        "outputId": "971507a4-420c-4f32-ad0e-7c6bcf84ca96"
      },
      "source": [
        "# Install e-utilities UNIX\n",
        "# When prompoted here, please type `y` to install\n",
        "e_utilities_install()"
      ],
      "execution_count": null,
      "outputs": [
        {
          "output_type": "stream",
          "text": [
            "  % Total    % Received % Xferd  Average Speed   Time    Time     Time  Current\n",
            "                                 Dload  Upload   Total   Spent    Left  Speed\n",
            "100   665  100   665    0     0   2131      0 --:--:-- --:--:-- --:--:--  2131\n",
            "\n",
            "Entrez Direct has been successfully downloaded and installed.\n",
            "\n",
            "In order to complete the configuration process, please execute the following:\n",
            "\n",
            "  echo \"export PATH=\\${PATH}:/root/edirect\" >> $HOME/.bashrc\n",
            "\n",
            "or manually edit the PATH variable assignment in your .bashrc file.\n",
            "\n",
            "Would you like to do that automatically now? [y/N]\n",
            "y\n",
            "OK, done.\n"
          ],
          "name": "stdout"
        }
      ]
    },
    {
      "cell_type": "code",
      "metadata": {
        "colab": {
          "base_uri": "https://localhost:8080/"
        },
        "id": "mkrNyIhsv_GJ",
        "outputId": "d0a3b473-dbb1-4f3d-9931-a8ff135f48f0"
      },
      "source": [
        "# Example of a query of PMID 19008416\n",
        "!$HOME/edirect/efetch -db pubmed -id 19008416 -format xml \\\n",
        "| $HOME/edirect/xtract -pattern PubmedArticle -tab \"|\" -def \"NULL\" -sep \",\" -element MedlineCitation/PMID ArticleTitle \\\n",
        "DateCompleted/Year DateCompleted/Month DateCompleted/Day DateRevised/Year DateRevised/Month DateRevised/Day Journal/Title \\\n",
        "PubDate/Year PubDate/Month PubDate/Day AbstractText \\\n",
        "-block Author -tab \"/\" -def \"NULL\" -sep \"_\" -element ForeName,LastName,Affiliation"
      ],
      "execution_count": null,
      "outputs": [
        {
          "output_type": "stream",
          "text": [
            "19008416|Genomic loss of microRNA-101 leads to overexpression of histone methyltransferase EZH2 in cancer.|2009|01|05|2018|11|13|Science (New York, N.Y.)|2008|Dec|12|Enhancer of zeste homolog 2 (EZH2) is a mammalian histone methyltransferase that contributes to the epigenetic silencing of target genes and regulates the survival and metastasis of cancer cells. EZH2 is overexpressed in aggressive solid tumors by mechanisms that remain unclear. Here we show that the expression and function of EZH2 in cancer cell lines are inhibited by microRNA-101 (miR-101). Analysis of human prostate tumors revealed that miR-101 expression decreases during cancer progression, paralleling an increase in EZH2 expression. One or both of the two genomic loci encoding miR-101 were somatically lost in 37.5% of clinically localized prostate cancer cells (6 of 16) and 66.7% of metastatic disease cells (22 of 33). We propose that the genomic loss of miR-101 in cancer leads to overexpression of EZH2 and concomitant dysregulation of epigenetic pathways, resulting in cancer progression.|Sooryanarayana_Varambally_Michigan Center for Translational Pathology, University of Michigan Medical School, Ann Arbor, MI 48109, USA./Qi_Cao/Ram-Shankar_Mani/Sunita_Shankar/Xiaosong_Wang/Bushra_Ateeq/Bharathi_Laxman/Xuhong_Cao/Xiaojun_Jing/Kalpana_Ramnarayanan/J Chad_Brenner/Jindan_Yu/Jung H_Kim/Bo_Han/Patrick_Tan/Chandan_Kumar-Sinha/Robert J_Lonigro/Nallasivam_Palanisamy/Christopher A_Maher/Arul M_Chinnaiyan\r\n"
          ],
          "name": "stdout"
        }
      ]
    },
    {
      "cell_type": "code",
      "metadata": {
        "id": "8wOGPLPYOGHl"
      },
      "source": [
        "# Recall the list of PMIDs I had from the previous example\n",
        "# This will call the function pull_pmid_metadata \n",
        "# And then this will organize this into a dataframe\n",
        "df = pull_pmid_metadata(list_of_pmids)"
      ],
      "execution_count": null,
      "outputs": []
    },
    {
      "cell_type": "code",
      "metadata": {
        "colab": {
          "base_uri": "https://localhost:8080/",
          "height": 612
        },
        "id": "7Vaat3V4QgM-",
        "outputId": "dee05fa9-475f-4ea4-c964-b79d6331ef15"
      },
      "source": [
        "# Examining the dataframe\n",
        "df"
      ],
      "execution_count": null,
      "outputs": [
        {
          "output_type": "execute_result",
          "data": {
            "text/html": [
              "<div>\n",
              "<style scoped>\n",
              "    .dataframe tbody tr th:only-of-type {\n",
              "        vertical-align: middle;\n",
              "    }\n",
              "\n",
              "    .dataframe tbody tr th {\n",
              "        vertical-align: top;\n",
              "    }\n",
              "\n",
              "    .dataframe thead th {\n",
              "        text-align: right;\n",
              "    }\n",
              "</style>\n",
              "<table border=\"1\" class=\"dataframe\">\n",
              "  <thead>\n",
              "    <tr style=\"text-align: right;\">\n",
              "      <th></th>\n",
              "      <th>PMID</th>\n",
              "      <th>PubMed_Article_Title</th>\n",
              "      <th>Date_Completed_Year</th>\n",
              "      <th>Date_Completed_Month</th>\n",
              "      <th>Date_Completed_Day</th>\n",
              "      <th>Date_Revised_Year</th>\n",
              "      <th>Date_Revised_Month</th>\n",
              "      <th>Date_Revised_Day</th>\n",
              "      <th>Journal_Title</th>\n",
              "      <th>Publication_Date_Year</th>\n",
              "      <th>Publication_Date_Month</th>\n",
              "      <th>Publication_Date_Day</th>\n",
              "      <th>Abstract</th>\n",
              "      <th>AuthorFirstName_AuthorLastName_Affiliation</th>\n",
              "    </tr>\n",
              "  </thead>\n",
              "  <tbody>\n",
              "    <tr>\n",
              "      <th>0</th>\n",
              "      <td>19008416</td>\n",
              "      <td>Genomic loss of microRNA-101 leads to overexpr...</td>\n",
              "      <td>2009</td>\n",
              "      <td>01</td>\n",
              "      <td>05</td>\n",
              "      <td>2018</td>\n",
              "      <td>11</td>\n",
              "      <td>13</td>\n",
              "      <td>Science (New York, N.Y.)</td>\n",
              "      <td>2008</td>\n",
              "      <td>Dec</td>\n",
              "      <td>12</td>\n",
              "      <td>Enhancer of zeste homolog 2 (EZH2) is a mammal...</td>\n",
              "      <td>Sooryanarayana_Varambally_Michigan Center for ...</td>\n",
              "    </tr>\n",
              "    <tr>\n",
              "      <th>1</th>\n",
              "      <td>18927361</td>\n",
              "      <td>Genetics. DNA test for breast cancer risk draw...</td>\n",
              "      <td>2008</td>\n",
              "      <td>11</td>\n",
              "      <td>03</td>\n",
              "      <td>2009</td>\n",
              "      <td>11</td>\n",
              "      <td>19</td>\n",
              "      <td>Science (New York, N.Y.)</td>\n",
              "      <td>2008</td>\n",
              "      <td>Oct</td>\n",
              "      <td>17</td>\n",
              "      <td>NULL</td>\n",
              "      <td>Jennifer_Couzin</td>\n",
              "    </tr>\n",
              "    <tr>\n",
              "      <th>2</th>\n",
              "      <td>18787170</td>\n",
              "      <td>FBXW7 targets mTOR for degradation and coopera...</td>\n",
              "      <td>2008</td>\n",
              "      <td>09</td>\n",
              "      <td>25</td>\n",
              "      <td>2018</td>\n",
              "      <td>11</td>\n",
              "      <td>13</td>\n",
              "      <td>Science (New York, N.Y.)</td>\n",
              "      <td>2008</td>\n",
              "      <td>Sep</td>\n",
              "      <td>12</td>\n",
              "      <td>The enzyme mTOR (mammalian target of rapamycin...</td>\n",
              "      <td>Jian-Hua_Mao_Cancer Research Institute, Univer...</td>\n",
              "    </tr>\n",
              "    <tr>\n",
              "      <th>3</th>\n",
              "      <td>18487186</td>\n",
              "      <td>Design logic of a cannabinoid receptor signali...</td>\n",
              "      <td>2008</td>\n",
              "      <td>05</td>\n",
              "      <td>27</td>\n",
              "      <td>2018</td>\n",
              "      <td>11</td>\n",
              "      <td>13</td>\n",
              "      <td>Science (New York, N.Y.)</td>\n",
              "      <td>2008</td>\n",
              "      <td>May</td>\n",
              "      <td>16</td>\n",
              "      <td>Cannabinoid receptor 1 (CB1R) regulates neuron...</td>\n",
              "      <td>Kenneth D_Bromberg_Department of Pharmacology ...</td>\n",
              "    </tr>\n",
              "    <tr>\n",
              "      <th>4</th>\n",
              "      <td>18239126</td>\n",
              "      <td>Cancer proliferation gene discovery through fu...</td>\n",
              "      <td>2008</td>\n",
              "      <td>02</td>\n",
              "      <td>12</td>\n",
              "      <td>2019</td>\n",
              "      <td>01</td>\n",
              "      <td>09</td>\n",
              "      <td>Science (New York, N.Y.)</td>\n",
              "      <td>2008</td>\n",
              "      <td>Feb</td>\n",
              "      <td>01</td>\n",
              "      <td>Retroviral short hairpin RNA (shRNA)-mediated ...</td>\n",
              "      <td>Michael R_Schlabach_Howard Hughes Medical Inst...</td>\n",
              "    </tr>\n",
              "    <tr>\n",
              "      <th>5</th>\n",
              "      <td>18239125</td>\n",
              "      <td>Profiling essential genes in human mammary cel...</td>\n",
              "      <td>2008</td>\n",
              "      <td>02</td>\n",
              "      <td>12</td>\n",
              "      <td>2018</td>\n",
              "      <td>11</td>\n",
              "      <td>13</td>\n",
              "      <td>Science (New York, N.Y.)</td>\n",
              "      <td>2008</td>\n",
              "      <td>Feb</td>\n",
              "      <td>01</td>\n",
              "      <td>By virtue of their accumulated genetic alterat...</td>\n",
              "      <td>Jose M_Silva_Watson School of Biological Scien...</td>\n",
              "    </tr>\n",
              "  </tbody>\n",
              "</table>\n",
              "</div>"
            ],
            "text/plain": [
              "       PMID  ...         AuthorFirstName_AuthorLastName_Affiliation\n",
              "0  19008416  ...  Sooryanarayana_Varambally_Michigan Center for ...\n",
              "1  18927361  ...                                    Jennifer_Couzin\n",
              "2  18787170  ...  Jian-Hua_Mao_Cancer Research Institute, Univer...\n",
              "3  18487186  ...  Kenneth D_Bromberg_Department of Pharmacology ...\n",
              "4  18239126  ...  Michael R_Schlabach_Howard Hughes Medical Inst...\n",
              "5  18239125  ...  Jose M_Silva_Watson School of Biological Scien...\n",
              "\n",
              "[6 rows x 14 columns]"
            ]
          },
          "metadata": {},
          "execution_count": 12
        }
      ]
    },
    {
      "cell_type": "code",
      "metadata": {
        "id": "2Bwy38ibQjCv"
      },
      "source": [
        "# Saving the df to Google Colab\n",
        "exec(f'df.to_csv(\"/content/drive/My Drive/{GOOGLE_FOLDER_TO_SAVE}/PMID_MetaData.csv\", index=False)')"
      ],
      "execution_count": null,
      "outputs": []
    },
    {
      "cell_type": "code",
      "metadata": {
        "id": "iStT74nxLdFY"
      },
      "source": [
        ""
      ],
      "execution_count": null,
      "outputs": []
    }
  ]
}