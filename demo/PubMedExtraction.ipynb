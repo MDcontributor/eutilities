{
  "nbformat": 4,
  "nbformat_minor": 0,
  "metadata": {
    "colab": {
      "name": "PubMedExtraction.ipynb",
      "provenance": [],
      "authorship_tag": "ABX9TyOGo5vqo2zcQp7Tx3FnTLXR",
      "include_colab_link": true
    },
    "kernelspec": {
      "name": "python3",
      "display_name": "Python 3"
    },
    "language_info": {
      "name": "python"
    }
  },
  "cells": [
    {
      "cell_type": "markdown",
      "metadata": {
        "id": "view-in-github",
        "colab_type": "text"
      },
      "source": [
        "<a href=\"https://colab.research.google.com/github/atjoelpark/eutilities/blob/main/demo/PubMedExtraction.ipynb\" target=\"_parent\"><img src=\"https://colab.research.google.com/assets/colab-badge.svg\" alt=\"Open In Colab\"/></a>"
      ]
    },
    {
      "cell_type": "code",
      "metadata": {
        "id": "mO5rziMiP1Y9"
      },
      "source": [
        "# Obtaining Keys from the US National Library of Medicine\n",
        "# Link: https://www.ncbi.nlm.nih.gov/home/develop/api/"
      ],
      "execution_count": 1,
      "outputs": []
    },
    {
      "cell_type": "code",
      "metadata": {
        "id": "eCnC38Kwdqio"
      },
      "source": [
        "# The two APIs of interest for PubMed Articles\n",
        "# 1. Entrez Programming Utilities\n",
        "# 2. PubMed Central (PMC) APIs\n",
        "\n",
        "# Website provides documentation in regards to scope and uses."
      ],
      "execution_count": 2,
      "outputs": []
    },
    {
      "cell_type": "code",
      "metadata": {
        "id": "H5AVx6OBd5Oj"
      },
      "source": [
        "# Use of APIs are free, but please do not abuse the services.\n",
        "# 1. Do not run API requests concurrently.\n",
        "# 2. Include parameters to help identify what services you require.\n",
        "# 2a. 'tool' should be the name of your application, as a string value with no internal spaces.\n",
        "# 2b. 'email' should be the email address of the maintainer of the tool"
      ],
      "execution_count": 3,
      "outputs": []
    },
    {
      "cell_type": "code",
      "metadata": {
        "id": "7EA08xhkeOW_"
      },
      "source": [
        ""
      ],
      "execution_count": null,
      "outputs": []
    }
  ]
}