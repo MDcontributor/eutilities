{
  "nbformat": 4,
  "nbformat_minor": 0,
  "metadata": {
    "colab": {
      "name": "Analysis.ipynb",
      "provenance": [],
      "collapsed_sections": [],
      "authorship_tag": "ABX9TyNs0Vw6J1C9b4lMTBE3txK6",
      "include_colab_link": true
    },
    "kernelspec": {
      "name": "python3",
      "display_name": "Python 3"
    },
    "language_info": {
      "name": "python"
    }
  },
  "cells": [
    {
      "cell_type": "markdown",
      "metadata": {
        "id": "view-in-github",
        "colab_type": "text"
      },
      "source": [
        "<a href=\"https://colab.research.google.com/github/atjoelpark/eutilities/blob/main/demo/Analysis.ipynb\" target=\"_parent\"><img src=\"https://colab.research.google.com/assets/colab-badge.svg\" alt=\"Open In Colab\"/></a>"
      ]
    },
    {
      "cell_type": "markdown",
      "metadata": {
        "id": "vHht0jtIM53u"
      },
      "source": [
        "# Analysis of Data\n",
        "\n",
        "1. Extraction of first names\n",
        "2. Utilization of the Genderize API\n",
        "3. Identification of Country"
      ]
    },
    {
      "cell_type": "code",
      "metadata": {
        "id": "t7TpEWc_NB8N"
      },
      "source": [
        "# Customize here\n",
        "API_KEY = \"\"\n",
        "GOOGLE_DRIVE_URL = \"\"\n",
        "GOOGLE_FOLDER_TO_SAVE = \"Research\""
      ],
      "execution_count": 1,
      "outputs": []
    },
    {
      "cell_type": "code",
      "metadata": {
        "colab": {
          "base_uri": "https://localhost:8080/"
        },
        "id": "1iKuDwDuNJrW",
        "outputId": "989e340e-79f1-4fc3-e551-4ef0a55263b0"
      },
      "source": [
        "# Mounting Google Drive to Google Colab\n",
        "from google.colab import drive\n",
        "drive.mount(f'/content/drive/{GOOGLE_DRIVE_URL}')"
      ],
      "execution_count": 2,
      "outputs": [
        {
          "output_type": "stream",
          "text": [
            "Mounted at /content/drive/\n"
          ],
          "name": "stdout"
        }
      ]
    },
    {
      "cell_type": "code",
      "metadata": {
        "id": "NYRCQTssNLp8"
      },
      "source": [
        "# Installing dependencies\n",
        "import numpy as np \n",
        "import pandas as pd \n",
        "import re \n",
        "\n",
        "# For Logging & Debugging: Not needed for analysis\n",
        "import logging"
      ],
      "execution_count": 3,
      "outputs": []
    },
    {
      "cell_type": "code",
      "metadata": {
        "colab": {
          "base_uri": "https://localhost:8080/"
        },
        "id": "JPViCJmoNd2h",
        "outputId": "8b5279b8-4968-4626-9ac0-93466cc0ae04"
      },
      "source": [
        "# Installing Genderize\n",
        "!pip install genderize"
      ],
      "execution_count": 4,
      "outputs": [
        {
          "output_type": "stream",
          "text": [
            "Collecting genderize\n",
            "  Downloading Genderize-0.3.1-py3-none-any.whl (5.7 kB)\n",
            "Requirement already satisfied: requests>=1.0.0 in /usr/local/lib/python3.7/dist-packages (from genderize) (2.23.0)\n",
            "Requirement already satisfied: urllib3!=1.25.0,!=1.25.1,<1.26,>=1.21.1 in /usr/local/lib/python3.7/dist-packages (from requests>=1.0.0->genderize) (1.24.3)\n",
            "Requirement already satisfied: idna<3,>=2.5 in /usr/local/lib/python3.7/dist-packages (from requests>=1.0.0->genderize) (2.10)\n",
            "Requirement already satisfied: chardet<4,>=3.0.2 in /usr/local/lib/python3.7/dist-packages (from requests>=1.0.0->genderize) (3.0.4)\n",
            "Requirement already satisfied: certifi>=2017.4.17 in /usr/local/lib/python3.7/dist-packages (from requests>=1.0.0->genderize) (2021.5.30)\n",
            "Installing collected packages: genderize\n",
            "Successfully installed genderize-0.3.1\n"
          ],
          "name": "stdout"
        }
      ]
    },
    {
      "cell_type": "code",
      "metadata": {
        "id": "Y92YdftfNhsZ"
      },
      "source": [
        "# Reference: https://genderize.io\n",
        "# Reference: https://github.com/SteelPangolin/genderize\n",
        "# Importing Genderize\n",
        "from genderize import Genderize"
      ],
      "execution_count": 5,
      "outputs": []
    },
    {
      "cell_type": "markdown",
      "metadata": {
        "id": "4DonuH4DNqKP"
      },
      "source": [
        "# Methods"
      ]
    },
    {
      "cell_type": "code",
      "metadata": {
        "id": "Sezjl8HFOR3S"
      },
      "source": [
        "class Country:\n",
        "\n",
        "    # This class produces several static methods that assist in the search phase including utilizing APIs for Genderize as well as NLM's website. No fields are declared nor constructors instantiated. As a result, any import of the Search class will not require an instantiation. There will however be some static field types that wil help faciliate some of the static methods here.\n",
        "\n",
        "    def __init__(self):\n",
        "        self.throwAway = 1\n",
        "\n",
        "    @staticmethod\n",
        "    def countryCount(arrayOfAffiliations):\n",
        "        # This returns a dictionary with a dictionary with key = country and value = frequency of the country. There is one parameters with the first parameter ingesting a string of affiliations. \n",
        "\n",
        "        # Libraries utilized\n",
        "        from collections import Counter\n",
        "        import pandas as pd\n",
        "\n",
        "        # Declare an array with list of all valid countries in the world.\n",
        "        # Reference: https://textlists.info/geography/countries-of-the-world/\n",
        "        listOfCountries = [\"afghanistan\", \"albania\", \"algeria\", \"andorra\", \"angola\", \"antigua and barbuda\", \"argentina\", \"armenia\", \"australia\", \"austria\", \"azerbaijan\", \"the bahamas\", \"bahrain\", \"bangladesh\", \"barbados\", \"belarus\", \"belgium\", \"belize\", \"benin\", \"bhutan\", \"bolivia\", \"bosnia and herzegovina\", \"botswana\", \"brazil\", \"brunei\", \"bulgaria\", \"burkina faso\", \"burundi\", \"cambodia\", \"cameroon\", \"canada\", \"cape verde\", \"central african republic\", \"chad\", \"chile\", \"china\", \"colombia\", \"comoros\", \"congo, republic of the\", \"congo, democratic republic of the\", \"costa rica\", \"cote d'ivoire\", \"croatia\", \"cuba\", \"cyprus\", \"czech republic\", \"denmark\", \"djibouti\", \"dominica\", \"dominican republic\", \"east timor (timor-leste)\", \"ecuador\", \"egypt\", \"el salvador\", \"equatorial guinea\", \"eritrea\", \"estonia\", \"ethiopia\", \"fiji\", \"finland\", \"france\",\"gabon\",\"the gambia\",\"georgia\",\"germany\",\"ghana\",\"greece\",\"grenada\",\"guatemala\",\"guinea\",\"guinea-bissau\",\"guyana\",\"haiti\",\"honduras\",\"hungary\",\"iceland\",\"india\",\"indonesia\",\"iran\",\"iraq\",\"ireland\",\"israel\",\"italy\",\"jamaica\",\"japan\",\"jordan\",\"kazakhstan\",\"kenya\",\"kiribati\",\"korea,north\",\"korea, south\",\"kosovo\",\"kuwait\",\"kyrgyzstan\",\"laos\",\"latvia\",\"lebanon\",\"lesotho\",\"liberia\",\"libya\",\"liechtenstein\",\"lithuania\",\"luxembourg\",\"macedonia\",\"madagascar\",\"malawi\",\"malaysia\",\"maldives\",\"mali\",\"malta\",\"marshall islands\",\"mauritania\",\"mauritius\",\"mexico\",\"micronesia, federated states of\",\"moldova\",\"monaco\",\"mongolia\",\"montenegro\",\"morocco\",\"mozambique\",\"myanmar (burma)\",\"namibia\",\"nauru\",\"nepal\",\"netherlands\",\"new zealand\",\"nicaragua\",\"niger\",\"nigeria\",\"norway\",\"oman\",\"pakistan\",\"palau\",\"panama\",\"papua new guinea\",\"paraguay\",\"peru\",\"philippines\",\"poland\",\"portugal\",\"qatar\",\"romania\",\"russia\",\"rwanda\",\"saint kitts and nevis\",\"saint lucia\",\"saint vincent and the grenadines\",\"samoa\",\"san marino\",\"sao tome and principe\",\"saudi arabia\",\"senegal\",\"serbia\",\"seychelles\",\"sierra leone\",\"singapore\",\"slovakia\",\"slovenia\",\"solomon islands\",\"somalia\",\"south africa\",\"south sudan\",\"spain\",\"sri lanka\",\"sudan\",\"suriname\",\"swaziland\",\"sweden\",\"switzerland\",\"syria\",\"taiwan\",\"tajikistan\",\"tanzania\",\"thailand\",\"togo\",\"tonga\",\"trinidad and tobago\",\"tunisia\",\"turkey\",\"turkmenistan\",\"tuvalu\",\"uganda\",\"ukraine\",\"united arab emirates\",\"united kingdom\",\"united states of america\",\"uruguay\",\"uzbekistan\",\"vanuatu\",\"vatican city (holy see)\",\"venezuela\",\"vietnam\",\"yemen\",\"zambia\",\"zimbabwe\"]\n",
        "        punc = '''!|()-[]{};:'\"\\, <>./?@#$%^&*_~'''\n",
        "\n",
        "        # Please note that some countries will require mapping\n",
        "        # i.e. \"South Korea\" --> \"Korea, South\"\n",
        "        # Please note that I account for these edge cases in the main body of the method below\n",
        "        # This may require further iterations to improve on these edge cases\n",
        "        # punctuation has also been declared so that they can be removed\n",
        "\n",
        "        # TODO: Map the country initials to the country's full name. https://datahub.io/core/country-list\n",
        "        abbrev_dict = {\n",
        "                \"Afghanistan\":\"AF\",\n",
        "                \"Åland Islands\":\"AX\",\n",
        "                \"Albania\":\"AL\",\n",
        "                \"Algeria\":\"DZ\",\n",
        "                \"American Samoa\":\"AS\",\n",
        "                \"Andorra\":\"AD\",\n",
        "                \"Angola\":\"AO\",\n",
        "                \"Anguilla\":\"AI\",\n",
        "                \"Antarctica\":\"AQ\",\n",
        "                \"Antigua and Barbuda\":\"AG\",\n",
        "                \"Argentina\":\"AR\",\n",
        "                \"Armenia\":\"AM\",\n",
        "                \"Aruba\":\"AW\",\n",
        "                \"Australia\":\"AU\",\n",
        "                \"Austria\":\"AT\",\n",
        "                \"Azerbaijan\":\"AZ\",\n",
        "                \"Bahamas\":\"BS\",\n",
        "                \"Bahrain\":\"BH\",\n",
        "                \"Bangladesh\":\"BD\",\n",
        "                \"Barbados\":\"BB\",\n",
        "                \"Belarus\":\"BY\",\n",
        "                \"Belgium\":\"BE\",\n",
        "                \"Belize\":\"BZ\",\n",
        "                \"Benin\":\"BJ\",\n",
        "                \"Bermuda\":\"BM\",\n",
        "                \"Bhutan\":\"BT\",\n",
        "                \"Bolivia, Plurinational State of\":\"BO\",\n",
        "                \"Bonaire, Sint Eustatius and Saba\":\"BQ\",\n",
        "                \"Bosnia and Herzegovina\":\"BA\",\n",
        "                \"Botswana\":\"BW\",\n",
        "                \"Bouvet Island\":\"BV\",\n",
        "                \"Brazil\":\"BR\",\n",
        "                \"British Indian Ocean Territory\":\"IO\",\n",
        "                \"Brunei Darussalam\":\"BN\",\n",
        "                \"Bulgaria\":\"BG\",\n",
        "                \"Burkina Faso\":\"BF\",\n",
        "                \"Burundi\":\"BI\",\n",
        "                \"Cambodia\":\"KH\",\n",
        "                \"Cameroon\":\"CM\",\n",
        "                \"Canada\":\"CA\",\n",
        "                \"Cape Verde\":\"CV\",\n",
        "                \"Cayman Islands\":\"KY\",\n",
        "                \"Central African Republic\":\"CF\",\n",
        "                \"Chad\":\"TD\",\n",
        "                \"Chile\":\"CL\",\n",
        "                \"China\":\"CN\",\n",
        "                \"Christmas Island\":\"CX\",\n",
        "                \"Cocos (Keeling) Islands\":\"CC\",\n",
        "                \"Colombia\":\"CO\",\n",
        "                \"Comoros\":\"KM\",\n",
        "                \"Congo\":\"CG\",\n",
        "                \"Congo, the Democratic Republic of the\":\"CD\",\n",
        "                \"Cook Islands\":\"CK\",\n",
        "                \"Costa Rica\":\"CR\",\n",
        "                \"Côte d'Ivoire\":\"CI\",\n",
        "                \"Croatia\":\"HR\",\n",
        "                \"Cuba\":\"CU\",\n",
        "                \"Curaçao\":\"CW\",\n",
        "                \"Cyprus\":\"CY\",\n",
        "                \"Czech Republic\":\"CZ\",\n",
        "                \"Denmark\":\"DK\",\n",
        "                \"Djibouti\":\"DJ\",\n",
        "                \"Dominica\":\"DM\",\n",
        "                \"Dominican Republic\":\"DO\",\n",
        "                \"Ecuador\":\"EC\",\n",
        "                \"Egypt\":\"EG\",\n",
        "                \"El Salvador\":\"SV\",\n",
        "                \"Equatorial Guinea\":\"GQ\",\n",
        "                \"Eritrea\":\"ER\",\n",
        "                \"Estonia\":\"EE\",\n",
        "                \"Ethiopia\":\"ET\",\n",
        "                \"Falkland Islands (Malvinas)\":\"FK\",\n",
        "                \"Faroe Islands\":\"FO\",\n",
        "                \"Fiji\":\"FJ\",\n",
        "                \"Finland\":\"FI\",\n",
        "                \"France\":\"FR\",\n",
        "                \"French Guiana\":\"GF\",\n",
        "                \"French Polynesia\":\"PF\",\n",
        "                \"French Southern Territories\":\"TF\",\n",
        "                \"Gabon\":\"GA\",\n",
        "                \"Gambia\":\"GM\",\n",
        "                \"Georgia\":\"GE\",\n",
        "                \"Germany\":\"DE\",\n",
        "                \"Ghana\":\"GH\",\n",
        "                \"Gibraltar\":\"GI\",\n",
        "                \"Greece\":\"GR\",\n",
        "                \"Greenland\":\"GL\",\n",
        "                \"Grenada\":\"GD\",\n",
        "                \"Guadeloupe\":\"GP\",\n",
        "                \"Guam\":\"GU\",\n",
        "                \"Guatemala\":\"GT\",\n",
        "                \"Guernsey\":\"GG\",\n",
        "                \"Guinea\":\"GN\",\n",
        "                \"Guinea-Bissau\":\"GW\",\n",
        "                \"Guyana\":\"GY\",\n",
        "                \"Haiti\":\"HT\",\n",
        "                \"Heard Island and McDonald Islands\":\"HM\",\n",
        "                \"Holy See (Vatican City State)\":\"VA\",\n",
        "                \"Honduras\":\"HN\",\n",
        "                \"Hong Kong\":\"HK\",\n",
        "                \"Hungary\":\"HU\",\n",
        "                \"Iceland\":\"IS\",\n",
        "                \"India\":\"IN\",\n",
        "                \"Indonesia\":\"ID\",\n",
        "                \"Iran, Islamic Republic of\":\"IR\",\n",
        "                \"Iraq\":\"IQ\",\n",
        "                \"Ireland\":\"IE\",\n",
        "                \"Isle of Man\":\"IM\",\n",
        "                \"Israel\":\"IL\",\n",
        "                \"Italy\":\"IT\",\n",
        "                \"Jamaica\":\"JM\",\n",
        "                \"Japan\":\"JP\",\n",
        "                \"Jersey\":\"JE\",\n",
        "                \"Jordan\":\"JO\",\n",
        "                \"Kazakhstan\":\"KZ\",\n",
        "                \"Kenya\":\"KE\",\n",
        "                \"Kiribati\":\"KI\",\n",
        "                \"Korea, Democratic People's Republic of\":\"KP\",\n",
        "                \"Korea, Republic of\":\"KR\",\n",
        "                \"Kuwait\":\"KW\",\n",
        "                \"Kyrgyzstan\":\"KG\",\n",
        "                \"Lao People's Democratic Republic\":\"LA\",\n",
        "                \"Latvia\":\"LV\",\n",
        "                \"Lebanon\":\"LB\",\n",
        "                \"Lesotho\":\"LS\",\n",
        "                \"Liberia\":\"LR\",\n",
        "                \"Libya\":\"LY\",\n",
        "                \"Liechtenstein\":\"LI\",\n",
        "                \"Lithuania\":\"LT\",\n",
        "                \"Luxembourg\":\"LU\",\n",
        "                \"Macao\":\"MO\",\n",
        "                \"Macedonia, the Former Yugoslav Republic of\":\"MK\",\n",
        "                \"Madagascar\":\"MG\",\n",
        "                \"Malawi\":\"MW\",\n",
        "                \"Malaysia\":\"MY\",\n",
        "                \"Maldives\":\"MV\",\n",
        "                \"Mali\":\"ML\",\n",
        "                \"Malta\":\"MT\",\n",
        "                \"Marshall Islands\":\"MH\",\n",
        "                \"Martinique\":\"MQ\",\n",
        "                \"Mauritania\":\"MR\",\n",
        "                \"Mauritius\":\"MU\",\n",
        "                \"Mayotte\":\"YT\",\n",
        "                \"Mexico\":\"MX\",\n",
        "                \"Micronesia, Federated States of\":\"FM\",\n",
        "                \"Moldova, Republic of\":\"MD\",\n",
        "                \"Monaco\":\"MC\",\n",
        "                \"Mongolia\":\"MN\",\n",
        "                \"Montenegro\":\"ME\",\n",
        "                \"Montserrat\":\"MS\",\n",
        "                \"Morocco\":\"MA\",\n",
        "                \"Mozambique\":\"MZ\",\n",
        "                \"Myanmar\":\"MM\",\n",
        "                \"Namibia\":\"NA\",\n",
        "                \"Nauru\":\"NR\",\n",
        "                \"Nepal\":\"NP\",\n",
        "                \"Netherlands\":\"NL\",\n",
        "                \"New Caledonia\":\"NC\",\n",
        "                \"New Zealand\":\"NZ\",\n",
        "                \"Nicaragua\":\"NI\",\n",
        "                \"Niger\":\"NE\",\n",
        "                \"Nigeria\":\"NG\",\n",
        "                \"Niue\":\"NU\",\n",
        "                \"Norfolk Island\":\"NF\",\n",
        "                \"Northern Mariana Islands\":\"MP\",\n",
        "                \"Norway\":\"NO\",\n",
        "                \"Oman\":\"OM\",\n",
        "                \"Pakistan\":\"PK\",\n",
        "                \"Palau\":\"PW\",\n",
        "                \"Palestine, State of\":\"PS\",\n",
        "                \"Panama\":\"PA\",\n",
        "                \"Papua New Guinea\":\"PG\",\n",
        "                \"Paraguay\":\"PY\",\n",
        "                \"Peru\":\"PE\",\n",
        "                \"Philippines\":\"PH\",\n",
        "                \"Pitcairn\":\"PN\",\n",
        "                \"Poland\":\"PL\",\n",
        "                \"Portugal\":\"PT\",\n",
        "                \"Puerto Rico\":\"PR\",\n",
        "                \"Qatar\":\"QA\",\n",
        "                \"Réunion\":\"RE\",\n",
        "                \"Romania\":\"RO\",\n",
        "                \"Russian Federation\":\"RU\",\n",
        "                \"Rwanda\":\"RW\",\n",
        "                \"Saint Barthélemy\":\"BL\",\n",
        "                \"Saint Helena, Ascension and Tristan da Cunha\":\"SH\",\n",
        "                \"Saint Kitts and Nevis\":\"KN\",\n",
        "                \"Saint Lucia\":\"LC\",\n",
        "                \"Saint Martin (French part)\":\"MF\",\n",
        "                \"Saint Pierre and Miquelon\":\"PM\",\n",
        "                \"Saint Vincent and the Grenadines\":\"VC\",\n",
        "                \"Samoa\":\"WS\",\n",
        "                \"San Marino\":\"SM\",\n",
        "                \"Sao Tome and Principe\":\"ST\",\n",
        "                \"Saudi Arabia\":\"SA\",\n",
        "                \"Senegal\":\"SN\",\n",
        "                \"Serbia\":\"RS\",\n",
        "                \"Seychelles\":\"SC\",\n",
        "                \"Sierra Leone\":\"SL\",\n",
        "                \"Singapore\":\"SG\",\n",
        "                \"Sint Maarten (Dutch part)\":\"SX\",\n",
        "                \"Slovakia\":\"SK\",\n",
        "                \"Slovenia\":\"SI\",\n",
        "                \"Solomon Islands\":\"SB\",\n",
        "                \"Somalia\":\"SO\",\n",
        "                \"South Africa\":\"ZA\",\n",
        "                \"South Georgia and the South Sandwich Islands\":\"GS\",\n",
        "                \"South Sudan\":\"SS\",\n",
        "                \"Spain\":\"ES\",\n",
        "                \"Sri Lanka\":\"LK\",\n",
        "                \"Sudan\":\"SD\",\n",
        "                \"Suriname\":\"SR\",\n",
        "                \"Svalbard and Jan Mayen\":\"SJ\",\n",
        "                \"Swaziland\":\"SZ\",\n",
        "                \"Sweden\":\"SE\",\n",
        "                \"Switzerland\":\"CH\",\n",
        "                \"Syrian Arab Republic\":\"SY\",\n",
        "                \"Taiwan\":\"TW\",\n",
        "                \"Tajikistan\":\"TJ\",\n",
        "                \"Tanzania\":\"TZ\",\n",
        "                \"Thailand\":\"TH\",\n",
        "                \"Timor-Leste\":\"TL\",\n",
        "                \"Togo\":\"TG\",\n",
        "                \"Tokelau\":\"TK\",\n",
        "                \"Tonga\":\"TO\",\n",
        "                \"Trinidad and Tobago\":\"TT\",\n",
        "                \"Tunisia\":\"TN\",\n",
        "                \"Turkey\":\"TR\",\n",
        "                \"Turkmenistan\":\"TM\",\n",
        "                \"Turks and Caicos Islands\":\"TC\",\n",
        "                \"Tuvalu\":\"TV\",\n",
        "                \"Uganda\":\"UG\",\n",
        "                \"Ukraine\":\"UA\",\n",
        "                \"United Arab Emirates\":\"AE\",\n",
        "                \"United Kingdom\":\"GB\",\n",
        "                \"United States of America\":\"US\",\n",
        "                \"United States Minor Outlying Islands\":\"UM\",\n",
        "                \"Uruguay\":\"UY\",\n",
        "                \"Uzbekistan\":\"UZ\",\n",
        "                \"Vanuatu\":\"VU\",\n",
        "                \"Venezuela\":\"VE\",\n",
        "                \"Vietnam\":\"VN\",\n",
        "                \"Virgin Islands, British\":\"VG\",\n",
        "                \"Virgin Islands, U.S.\":\"VI\",\n",
        "                \"Wallis and Futuna\":\"WF\",\n",
        "                \"Western Sahara\":\"EH\",\n",
        "                \"Yemen\":\"YE\",\n",
        "                \"Zambia\":\"ZM\",\n",
        "                \"Zimbabwe\":\"ZW\"}\n",
        "\n",
        "        abbrev = pd.DataFrame(list(abbrev_dict.items()), columns=[\"Name\", \"Code\"])\n",
        "\n",
        "        affiliationsSplit = arrayOfAffiliations.split(\" \")\n",
        "        tempList = []                                            \n",
        "\n",
        "        for word in affiliationsSplit:                           \n",
        "            \n",
        "            # Removing punctuations in string \n",
        "            # Using loop + punctuation string \n",
        "            for ele in word:  \n",
        "                if ele in punc:  \n",
        "                    word = word.replace(ele, \"\")  \n",
        "                                                                   \n",
        "            if word.lower() in listOfCountries: \n",
        "                tempList.append(word.lower())\n",
        "            if word.lower() == \"south korea\": \n",
        "                tempList.append(\"korea, south\") # edge case for South Korea\n",
        "            if word.lower() == \"north korea\": \n",
        "                tempList.append(\"korea, north\") # edge case for North Korea\n",
        "            if word.lower() == \"united states\": \n",
        "                tempList.append(\"united states of america\") # edge case for US\n",
        "            if word.lower() == \"usa\": \n",
        "                tempList.append(\"united states of america\") # edge case for US\n",
        "            if word.lower() == \"uk\": \n",
        "                tempList.append(\"united kingdom\") # edge case for US\n",
        "\n",
        "            #if abbrev.loc[:,\"Code\"].str.contains(word.upper()).any():\n",
        "            #    wordTemp = abbrev[abbrev.loc[:,\"Code\"] == word.upper()].loc[:,\"Name\"][0]\n",
        "            #    tempList.append(wordTemp) # accounts for country abbreviations\n",
        "            # BUG: Please look again for this error\n",
        "\n",
        "        # List of countries established. Counter function returns a dictionary with country frequency\n",
        "        return Counter(tempList)\n",
        "\n",
        "\n",
        "class Tokenization():\n",
        "    # This class provides static functions in tokenization and frequency counts of words.\n",
        "    # No constructors are required.\n",
        "\n",
        "    @staticmethod\n",
        "    def return_tokens(index: int, aff_string: str) -> list:\n",
        "        try:\n",
        "            '''\n",
        "            Returns a sorted list of words in descending order\n",
        "            Dependency: nltk.tokenize, nltk.corpus\n",
        "            '''\n",
        "            from nltk.tokenize import RegexpTokenizer\n",
        "            from nltk.corpus import stopwords\n",
        "\n",
        "            tokenizer = RegexpTokenizer(r'\\w+')\n",
        "            tokens = tokenizer.tokenize(aff_string)\n",
        "            tokens = [word.lower() for word in tokens]\n",
        "            return [word for word in tokens if word not in stopwords.words('english')]\n",
        "        except:\n",
        "            # Occasionally the input creates a null.\n",
        "            # Return an empty list \n",
        "            # print(f'Null encountered at index {i}')\n",
        "            return []\n",
        "\n",
        "    @staticmethod\n",
        "    def return_frequency_terms(terms: list) -> dict:\n",
        "        '''\n",
        "        Returns a dictionary of the terms with its corresponding frequencies\n",
        "        '''\n",
        "        wordfreq = [terms.count(w) for w in terms]\n",
        "        return dict(list(zip(terms,wordfreq)))\n",
        "\n",
        "    @staticmethod\n",
        "    def return_sorted_frequency(freqdict: dict) -> list:\n",
        "        '''\n",
        "        Returns a sorted list with the most frequent terms\n",
        "        '''\n",
        "        aux = [(freqdict[key], key) for key in freqdict]\n",
        "        aux.sort()\n",
        "        aux.reverse()\n",
        "        return aux"
      ],
      "execution_count": 6,
      "outputs": []
    },
    {
      "cell_type": "code",
      "metadata": {
        "id": "QiADwCE9OY-V"
      },
      "source": [
        "def get_Gender(list_of_first_names: list, api_key = API_KEY) -> pd.DataFrame:\n",
        "  \"\"\"\n",
        "  Ingests a list of first names and outputs a pandas dataframe with first name, probability and gender\n",
        "  Please note that API key is optional. The API Key allows a higher limit of calls.\n",
        "  A subscription is required in order to obtain an API key.\n",
        "  Go to genderize.io to pay for a subscription. \n",
        "  \"\"\"\n",
        "  try:\n",
        "    if api_key == \"\":\n",
        "      genderize = Genderize(\n",
        "          user_agent='GenderizeDocs/0.0',\n",
        "          timeout=5.0\n",
        "      )\n",
        "    else:\n",
        "      genderize = Genderize(\n",
        "          user_agent='GenderizeDocs/0.0',\n",
        "          api_key=api_key,\n",
        "          timeout=5.0\n",
        "      )\n",
        "  except Exception as e:\n",
        "    logger = logging.getLogger()\n",
        "    logger.setLevel(logging.ERROR)\n",
        "    logging.error(e)\n",
        "    raise ValueError(\"Entered an invalid API KEY\")\n",
        "\n",
        "  list_probabilities: list = genderize.get(list_of_first_names)\n",
        "  return pd.DataFrame(list_probabilities)"
      ],
      "execution_count": 13,
      "outputs": []
    },
    {
      "cell_type": "markdown",
      "metadata": {
        "id": "d706481kRToy"
      },
      "source": [
        "# Main\n",
        "\n",
        "Let's start importing in the sample dataset and analyze the data."
      ]
    },
    {
      "cell_type": "code",
      "metadata": {
        "id": "Mn_bgvP9SBpY"
      },
      "source": [
        "sample_pmid = pd.read_csv('/content/drive/My Drive/Research/PMID_MetaData.csv')"
      ],
      "execution_count": 22,
      "outputs": []
    },
    {
      "cell_type": "code",
      "metadata": {
        "colab": {
          "base_uri": "https://localhost:8080/",
          "height": 612
        },
        "id": "dtE5DP5iR61e",
        "outputId": "ddfc1e14-6786-4d32-a67b-0a64201f6b65"
      },
      "source": [
        "# Inspect the dataframe\n",
        "sample_pmid"
      ],
      "execution_count": 24,
      "outputs": [
        {
          "output_type": "execute_result",
          "data": {
            "text/html": [
              "<div>\n",
              "<style scoped>\n",
              "    .dataframe tbody tr th:only-of-type {\n",
              "        vertical-align: middle;\n",
              "    }\n",
              "\n",
              "    .dataframe tbody tr th {\n",
              "        vertical-align: top;\n",
              "    }\n",
              "\n",
              "    .dataframe thead th {\n",
              "        text-align: right;\n",
              "    }\n",
              "</style>\n",
              "<table border=\"1\" class=\"dataframe\">\n",
              "  <thead>\n",
              "    <tr style=\"text-align: right;\">\n",
              "      <th></th>\n",
              "      <th>PMID</th>\n",
              "      <th>PubMed_Article_Title</th>\n",
              "      <th>Date_Completed_Year</th>\n",
              "      <th>Date_Completed_Month</th>\n",
              "      <th>Date_Completed_Day</th>\n",
              "      <th>Date_Revised_Year</th>\n",
              "      <th>Date_Revised_Month</th>\n",
              "      <th>Date_Revised_Day</th>\n",
              "      <th>Journal_Title</th>\n",
              "      <th>Publication_Date_Year</th>\n",
              "      <th>Publication_Date_Month</th>\n",
              "      <th>Publication_Date_Day</th>\n",
              "      <th>Abstract</th>\n",
              "      <th>AuthorFirstName_AuthorLastName_Affiliation</th>\n",
              "    </tr>\n",
              "  </thead>\n",
              "  <tbody>\n",
              "    <tr>\n",
              "      <th>0</th>\n",
              "      <td>19008416</td>\n",
              "      <td>Genomic loss of microRNA-101 leads to overexpr...</td>\n",
              "      <td>2009</td>\n",
              "      <td>1</td>\n",
              "      <td>5</td>\n",
              "      <td>2018</td>\n",
              "      <td>11</td>\n",
              "      <td>13</td>\n",
              "      <td>Science (New York, N.Y.)</td>\n",
              "      <td>2008</td>\n",
              "      <td>Dec</td>\n",
              "      <td>12</td>\n",
              "      <td>Enhancer of zeste homolog 2 (EZH2) is a mammal...</td>\n",
              "      <td>Sooryanarayana_Varambally_Michigan Center for ...</td>\n",
              "    </tr>\n",
              "    <tr>\n",
              "      <th>1</th>\n",
              "      <td>18927361</td>\n",
              "      <td>Genetics. DNA test for breast cancer risk draw...</td>\n",
              "      <td>2008</td>\n",
              "      <td>11</td>\n",
              "      <td>3</td>\n",
              "      <td>2009</td>\n",
              "      <td>11</td>\n",
              "      <td>19</td>\n",
              "      <td>Science (New York, N.Y.)</td>\n",
              "      <td>2008</td>\n",
              "      <td>Oct</td>\n",
              "      <td>17</td>\n",
              "      <td>NaN</td>\n",
              "      <td>Jennifer_Couzin</td>\n",
              "    </tr>\n",
              "    <tr>\n",
              "      <th>2</th>\n",
              "      <td>18787170</td>\n",
              "      <td>FBXW7 targets mTOR for degradation and coopera...</td>\n",
              "      <td>2008</td>\n",
              "      <td>9</td>\n",
              "      <td>25</td>\n",
              "      <td>2018</td>\n",
              "      <td>11</td>\n",
              "      <td>13</td>\n",
              "      <td>Science (New York, N.Y.)</td>\n",
              "      <td>2008</td>\n",
              "      <td>Sep</td>\n",
              "      <td>12</td>\n",
              "      <td>The enzyme mTOR (mammalian target of rapamycin...</td>\n",
              "      <td>Jian-Hua_Mao_Cancer Research Institute, Univer...</td>\n",
              "    </tr>\n",
              "    <tr>\n",
              "      <th>3</th>\n",
              "      <td>18487186</td>\n",
              "      <td>Design logic of a cannabinoid receptor signali...</td>\n",
              "      <td>2008</td>\n",
              "      <td>5</td>\n",
              "      <td>27</td>\n",
              "      <td>2018</td>\n",
              "      <td>11</td>\n",
              "      <td>13</td>\n",
              "      <td>Science (New York, N.Y.)</td>\n",
              "      <td>2008</td>\n",
              "      <td>May</td>\n",
              "      <td>16</td>\n",
              "      <td>Cannabinoid receptor 1 (CB1R) regulates neuron...</td>\n",
              "      <td>Kenneth D_Bromberg_Department of Pharmacology ...</td>\n",
              "    </tr>\n",
              "    <tr>\n",
              "      <th>4</th>\n",
              "      <td>18239126</td>\n",
              "      <td>Cancer proliferation gene discovery through fu...</td>\n",
              "      <td>2008</td>\n",
              "      <td>2</td>\n",
              "      <td>12</td>\n",
              "      <td>2019</td>\n",
              "      <td>1</td>\n",
              "      <td>9</td>\n",
              "      <td>Science (New York, N.Y.)</td>\n",
              "      <td>2008</td>\n",
              "      <td>Feb</td>\n",
              "      <td>1</td>\n",
              "      <td>Retroviral short hairpin RNA (shRNA)-mediated ...</td>\n",
              "      <td>Michael R_Schlabach_Howard Hughes Medical Inst...</td>\n",
              "    </tr>\n",
              "    <tr>\n",
              "      <th>5</th>\n",
              "      <td>18239125</td>\n",
              "      <td>Profiling essential genes in human mammary cel...</td>\n",
              "      <td>2008</td>\n",
              "      <td>2</td>\n",
              "      <td>12</td>\n",
              "      <td>2018</td>\n",
              "      <td>11</td>\n",
              "      <td>13</td>\n",
              "      <td>Science (New York, N.Y.)</td>\n",
              "      <td>2008</td>\n",
              "      <td>Feb</td>\n",
              "      <td>1</td>\n",
              "      <td>By virtue of their accumulated genetic alterat...</td>\n",
              "      <td>Jose M_Silva_Watson School of Biological Scien...</td>\n",
              "    </tr>\n",
              "  </tbody>\n",
              "</table>\n",
              "</div>"
            ],
            "text/plain": [
              "       PMID  ...         AuthorFirstName_AuthorLastName_Affiliation\n",
              "0  19008416  ...  Sooryanarayana_Varambally_Michigan Center for ...\n",
              "1  18927361  ...                                    Jennifer_Couzin\n",
              "2  18787170  ...  Jian-Hua_Mao_Cancer Research Institute, Univer...\n",
              "3  18487186  ...  Kenneth D_Bromberg_Department of Pharmacology ...\n",
              "4  18239126  ...  Michael R_Schlabach_Howard Hughes Medical Inst...\n",
              "5  18239125  ...  Jose M_Silva_Watson School of Biological Scien...\n",
              "\n",
              "[6 rows x 14 columns]"
            ]
          },
          "metadata": {},
          "execution_count": 24
        }
      ]
    },
    {
      "cell_type": "code",
      "metadata": {
        "colab": {
          "base_uri": "https://localhost:8080/",
          "height": 71
        },
        "id": "V7jVUlegSgLV",
        "outputId": "80d2f2ce-409d-4c2a-b4e2-2dc49987bb64"
      },
      "source": [
        "# Inspect the first row and the cell of authors with their affiliations\n",
        "sample_pmid.loc[0,\"AuthorFirstName_AuthorLastName_Affiliation\"]"
      ],
      "execution_count": 34,
      "outputs": [
        {
          "output_type": "execute_result",
          "data": {
            "application/vnd.google.colaboratory.intrinsic+json": {
              "type": "string"
            },
            "text/plain": [
              "'Sooryanarayana_Varambally_Michigan Center for Translational Pathology, University of Michigan Medical School, Ann Arbor, MI 48109, USA./Qi_Cao/Ram-Shankar_Mani/Sunita_Shankar/Xiaosong_Wang/Bushra_Ateeq/Bharathi_Laxman/Xuhong_Cao/Xiaojun_Jing/Kalpana_Ramnarayanan/J Chad_Brenner/Jindan_Yu/Jung H_Kim/Bo_Han/Patrick_Tan/Chandan_Kumar-Sinha/Robert J_Lonigro/Nallasivam_Palanisamy/Christopher A_Maher/Arul M_Chinnaiyan'"
            ]
          },
          "metadata": {},
          "execution_count": 34
        }
      ]
    },
    {
      "cell_type": "markdown",
      "metadata": {
        "id": "MayZdJpNSpiJ"
      },
      "source": [
        "Inspecting this column, it appears that the delimiter is \"/\" with the first author having additional affiliation associated with the author \n",
        "\n",
        "For now, let's extract out all of the authors' first name."
      ]
    },
    {
      "cell_type": "code",
      "metadata": {
        "id": "zVXyuIk0TBuS"
      },
      "source": [
        "# Extracting out authors' first names for all 6 papers using regular expressions\n",
        "list_of_first_names = []\n",
        "for counter in range(0,6,1):\n",
        "  authors = sample_pmid.loc[counter,\"AuthorFirstName_AuthorLastName_Affiliation\"]\n",
        "  list_authors = authors.split('/')\n",
        "  \n",
        "  for author in list_authors:\n",
        "    first_name = re.findall(r'^[\\s\\w-]+?_',author) # Searches for first name including '-' and ' '\n",
        "    first_name = re.sub(r'_','',first_name[0]) # Removes '_'\n",
        "    first_name = re.findall(r'^[\\w]+',first_name) # Many names have middle initials in it. This eliminates middle initial\n",
        "    list_of_first_names.append(first_name[0])"
      ],
      "execution_count": 43,
      "outputs": []
    },
    {
      "cell_type": "code",
      "metadata": {
        "colab": {
          "base_uri": "https://localhost:8080/"
        },
        "id": "eNCfJnKsNpYD",
        "outputId": "a50d18db-736a-4244-86c7-e2b04efe24cc"
      },
      "source": [
        "# Obtain probabilities and gender of first names\n",
        "first_names_df = get_Gender(list_of_first_names)"
      ],
      "execution_count": 44,
      "outputs": [
        {
          "output_type": "stream",
          "text": [
            "DEBUG:urllib3.connectionpool:Starting new HTTPS connection (1): api.genderize.io:443\n",
            "DEBUG:urllib3.connectionpool:https://api.genderize.io:443 \"GET /?name%5B%5D=Sooryanarayana&name%5B%5D=Qi&name%5B%5D=Ram&name%5B%5D=Sunita&name%5B%5D=Xiaosong&name%5B%5D=Bushra&name%5B%5D=Bharathi&name%5B%5D=Xuhong&name%5B%5D=Xiaojun&name%5B%5D=Kalpana HTTP/1.1\" 200 656\n",
            "DEBUG:urllib3.connectionpool:https://api.genderize.io:443 \"GET /?name%5B%5D=J&name%5B%5D=Jindan&name%5B%5D=Jung&name%5B%5D=Bo&name%5B%5D=Patrick&name%5B%5D=Chandan&name%5B%5D=Robert&name%5B%5D=Nallasivam&name%5B%5D=Christopher&name%5B%5D=Arul HTTP/1.1\" 200 654\n",
            "DEBUG:urllib3.connectionpool:https://api.genderize.io:443 \"GET /?name%5B%5D=Jennifer&name%5B%5D=Jian&name%5B%5D=Il&name%5B%5D=Di&name%5B%5D=Joan&name%5B%5D=Hio&name%5B%5D=Reyno&name%5B%5D=Allan&name%5B%5D=Kenneth&name%5B%5D=Avi HTTP/1.1\" 200 647\n",
            "DEBUG:urllib3.connectionpool:https://api.genderize.io:443 \"GET /?name%5B%5D=Susana&name%5B%5D=Ravi&name%5B%5D=Michael&name%5B%5D=Ji&name%5B%5D=Nicole&name%5B%5D=Guang&name%5B%5D=Qikai&name%5B%5D=Mamie&name%5B%5D=Zhenming&name%5B%5D=Agata HTTP/1.1\" 200 659\n",
            "DEBUG:urllib3.connectionpool:https://api.genderize.io:443 \"GET /?name%5B%5D=Mathew&name%5B%5D=Xiaolu&name%5B%5D=Thomas&name%5B%5D=Anthony&name%5B%5D=Kenneth&name%5B%5D=Jennifer&name%5B%5D=J&name%5B%5D=Gregory&name%5B%5D=Stephen&name%5B%5D=Jose HTTP/1.1\" 200 672\n",
            "DEBUG:urllib3.connectionpool:https://api.genderize.io:443 \"GET /?name%5B%5D=Krista&name%5B%5D=Joel&name%5B%5D=Javier&name%5B%5D=Michael&name%5B%5D=Michael&name%5B%5D=Stephen&name%5B%5D=Gregory&name%5B%5D=Kenneth HTTP/1.1\" 200 544\n"
          ],
          "name": "stderr"
        }
      ]
    },
    {
      "cell_type": "code",
      "metadata": {
        "colab": {
          "base_uri": "https://localhost:8080/",
          "height": 204
        },
        "id": "Gt8-j-aoQBhO",
        "outputId": "6c72c140-bbeb-40e0-9aef-9d30345e401e"
      },
      "source": [
        "# Inspecting head of data frame\n",
        "first_names_df.head()"
      ],
      "execution_count": 45,
      "outputs": [
        {
          "output_type": "execute_result",
          "data": {
            "text/html": [
              "<div>\n",
              "<style scoped>\n",
              "    .dataframe tbody tr th:only-of-type {\n",
              "        vertical-align: middle;\n",
              "    }\n",
              "\n",
              "    .dataframe tbody tr th {\n",
              "        vertical-align: top;\n",
              "    }\n",
              "\n",
              "    .dataframe thead th {\n",
              "        text-align: right;\n",
              "    }\n",
              "</style>\n",
              "<table border=\"1\" class=\"dataframe\">\n",
              "  <thead>\n",
              "    <tr style=\"text-align: right;\">\n",
              "      <th></th>\n",
              "      <th>name</th>\n",
              "      <th>gender</th>\n",
              "      <th>probability</th>\n",
              "      <th>count</th>\n",
              "    </tr>\n",
              "  </thead>\n",
              "  <tbody>\n",
              "    <tr>\n",
              "      <th>0</th>\n",
              "      <td>Sooryanarayana</td>\n",
              "      <td>None</td>\n",
              "      <td>0.00</td>\n",
              "      <td>0</td>\n",
              "    </tr>\n",
              "    <tr>\n",
              "      <th>1</th>\n",
              "      <td>Qi</td>\n",
              "      <td>male</td>\n",
              "      <td>0.64</td>\n",
              "      <td>445</td>\n",
              "    </tr>\n",
              "    <tr>\n",
              "      <th>2</th>\n",
              "      <td>Ram</td>\n",
              "      <td>male</td>\n",
              "      <td>0.93</td>\n",
              "      <td>5003</td>\n",
              "    </tr>\n",
              "    <tr>\n",
              "      <th>3</th>\n",
              "      <td>Sunita</td>\n",
              "      <td>female</td>\n",
              "      <td>0.97</td>\n",
              "      <td>695</td>\n",
              "    </tr>\n",
              "    <tr>\n",
              "      <th>4</th>\n",
              "      <td>Xiaosong</td>\n",
              "      <td>male</td>\n",
              "      <td>0.83</td>\n",
              "      <td>12</td>\n",
              "    </tr>\n",
              "  </tbody>\n",
              "</table>\n",
              "</div>"
            ],
            "text/plain": [
              "             name  gender  probability  count\n",
              "0  Sooryanarayana    None         0.00      0\n",
              "1              Qi    male         0.64    445\n",
              "2             Ram    male         0.93   5003\n",
              "3          Sunita  female         0.97    695\n",
              "4        Xiaosong    male         0.83     12"
            ]
          },
          "metadata": {},
          "execution_count": 45
        }
      ]
    },
    {
      "cell_type": "code",
      "metadata": {
        "colab": {
          "base_uri": "https://localhost:8080/"
        },
        "id": "Qokun43_WgPU",
        "outputId": "24650ed3-2bdf-49d4-a879-fb179888eaac"
      },
      "source": [
        "# Shape of the dataframe\n",
        "first_names_df.shape"
      ],
      "execution_count": 46,
      "outputs": [
        {
          "output_type": "execute_result",
          "data": {
            "text/plain": [
              "(58, 4)"
            ]
          },
          "metadata": {},
          "execution_count": 46
        }
      ]
    },
    {
      "cell_type": "code",
      "metadata": {
        "id": "f1OQ9DO_WrpJ"
      },
      "source": [
        "# Saving first_names_df\n",
        "first_names_df.to_csv('/content/drive/My Drive/Research/first_names_df.csv', index=False)"
      ],
      "execution_count": 47,
      "outputs": []
    },
    {
      "cell_type": "code",
      "metadata": {
        "id": "CiwyTdmgWyVZ"
      },
      "source": [
        ""
      ],
      "execution_count": null,
      "outputs": []
    }
  ]
}